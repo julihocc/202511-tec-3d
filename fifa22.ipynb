{
 "cells": [
  {
   "cell_type": "markdown",
   "id": "1558f222",
   "metadata": {},
   "source": [
    "# Exploración de Datos FIFA22\n",
    "\n",
    "# 1. Introducción\n",
    "\n",
    "Este análisis tiene como objetivo explorar el conjunto de datos de FIFA22, \n",
    "centrándose en variables clave como el potencial, salario, reputación, valor de mercado y estatura de los jugadores."
   ]
  },
  {
   "cell_type": "code",
   "execution_count": null,
   "id": "bea9106b",
   "metadata": {},
   "outputs": [],
   "source": [
    "# 2. Carga y exploración inicial de datos\n",
    "\n",
    "# 2.1 Importación de librerías\n",
    "import pandas as pd\n",
    "import numpy as np\n",
    "import matplotlib.pyplot as plt\n",
    "import seaborn as sns"
   ]
  },
  {
   "cell_type": "code",
   "execution_count": null,
   "id": "6fd3cdb8",
   "metadata": {},
   "outputs": [],
   "source": [
    "# 2.2 Carga del dataset\n",
    "df = pd.read_csv('ruta/a/tu/archivo.csv')"
   ]
  },
  {
   "cell_type": "code",
   "execution_count": null,
   "id": "ac06628d",
   "metadata": {},
   "outputs": [],
   "source": [
    "# 2.3 Exploración inicial\n",
    "df.head()"
   ]
  },
  {
   "cell_type": "code",
   "execution_count": null,
   "id": "c584b63a",
   "metadata": {},
   "outputs": [],
   "source": [
    "df.info()"
   ]
  },
  {
   "cell_type": "code",
   "execution_count": null,
   "id": "bf3414f5",
   "metadata": {},
   "outputs": [],
   "source": [
    "df.describe()"
   ]
  },
  {
   "cell_type": "code",
   "execution_count": null,
   "id": "1adf32ff",
   "metadata": {},
   "outputs": [],
   "source": [
    "# 2.4 Identificación de valores nulos\n",
    "df.isnull().sum()"
   ]
  },
  {
   "cell_type": "markdown",
   "id": "59110aa3",
   "metadata": {},
   "source": [
    "# 3. Análisis exploratorio (EDA)\n",
    "\n",
    "## 3.1 Distribución de características físicas y económicas"
   ]
  },
  {
   "cell_type": "code",
   "execution_count": null,
   "id": "449dec04",
   "metadata": {},
   "outputs": [],
   "source": [
    "# Estatura de los jugadores\n",
    "sns.histplot(df['Height'], kde=True)\n",
    "plt.title('Distribución de Estatura')\n",
    "plt.show()"
   ]
  },
  {
   "cell_type": "code",
   "execution_count": null,
   "id": "e9fcef2e",
   "metadata": {},
   "outputs": [],
   "source": [
    "# Peso de los jugadores\n",
    "sns.histplot(df['Weight'], kde=True)\n",
    "plt.title('Distribución de Peso')\n",
    "plt.show()"
   ]
  },
  {
   "cell_type": "code",
   "execution_count": null,
   "id": "76ebdb55",
   "metadata": {},
   "outputs": [],
   "source": [
    "# Salario de los jugadores\n",
    "sns.histplot(df['Wage'], kde=True)\n",
    "plt.title('Distribución de Salario')\n",
    "plt.show()"
   ]
  },
  {
   "cell_type": "code",
   "execution_count": null,
   "id": "a03aac83",
   "metadata": {},
   "outputs": [],
   "source": [
    "# Edad de los jugadores\n",
    "sns.histplot(df['Age'], kde=True)\n",
    "plt.title('Distribución de Edad')\n",
    "plt.show()"
   ]
  },
  {
   "cell_type": "markdown",
   "id": "e44b8fa1",
   "metadata": {},
   "source": [
    "## 3.2 Dominancia del pie"
   ]
  },
  {
   "cell_type": "code",
   "execution_count": null,
   "id": "d885ff17",
   "metadata": {},
   "outputs": [],
   "source": [
    "sns.countplot(x='Preferred Foot', data=df)\n",
    "plt.title('Pie Dominante de los Jugadores')\n",
    "plt.show()"
   ]
  },
  {
   "cell_type": "markdown",
   "id": "5937e526",
   "metadata": {},
   "source": [
    "## 3.3 Representación geográfica"
   ]
  },
  {
   "cell_type": "code",
   "execution_count": null,
   "id": "13ad99ad",
   "metadata": {},
   "outputs": [],
   "source": [
    "top_countries = df['Nationality'].value_counts().head(10)\n",
    "top_countries.plot(kind='bar')\n",
    "plt.title('Países con Mayor Representación')\n",
    "plt.show()"
   ]
  },
  {
   "cell_type": "markdown",
   "id": "e9dcc74a",
   "metadata": {},
   "source": [
    "## 3.4 Posiciones de los jugadores"
   ]
  },
  {
   "cell_type": "code",
   "execution_count": null,
   "id": "adf91c9c",
   "metadata": {},
   "outputs": [],
   "source": [
    "sns.countplot(y='Position', data=df, order=df['Position'].value_counts().index)\n",
    "plt.title('Posiciones más Comunes')\n",
    "plt.show()"
   ]
  },
  {
   "cell_type": "markdown",
   "id": "7f330ae6",
   "metadata": {},
   "source": [
    "# 4. Relaciones entre variables clave\n",
    "\n",
    "## 4.1 Potencial vs Salario"
   ]
  },
  {
   "cell_type": "code",
   "execution_count": null,
   "id": "bc081a2b",
   "metadata": {},
   "outputs": [],
   "source": [
    "sns.scatterplot(x='Potential', y='Wage', data=df)\n",
    "plt.title('Relación entre Potencial y Salario')\n",
    "plt.show()"
   ]
  },
  {
   "cell_type": "markdown",
   "id": "a68f14df",
   "metadata": {},
   "source": [
    "## 4.2 Reputación vs Valor de mercado"
   ]
  },
  {
   "cell_type": "code",
   "execution_count": null,
   "id": "82103922",
   "metadata": {},
   "outputs": [],
   "source": [
    "sns.scatterplot(x='Reputation', y='Value', data=df)\n",
    "plt.title('Relación entre Reputación y Valor de Mercado')\n",
    "plt.show()"
   ]
  },
  {
   "cell_type": "markdown",
   "id": "7bc370a7",
   "metadata": {},
   "source": [
    "## 4.3 Reputación vs Salario"
   ]
  },
  {
   "cell_type": "code",
   "execution_count": null,
   "id": "1f0e883a",
   "metadata": {},
   "outputs": [],
   "source": [
    "sns.boxplot(x='Reputation', y='Wage', data=df)\n",
    "plt.title('Relación entre Reputación y Salario')\n",
    "plt.show()"
   ]
  },
  {
   "cell_type": "markdown",
   "id": "7c728bc4",
   "metadata": {},
   "source": [
    "## 4.4 Estatura vs Potencial"
   ]
  },
  {
   "cell_type": "code",
   "execution_count": null,
   "id": "40c5392d",
   "metadata": {},
   "outputs": [],
   "source": [
    "sns.scatterplot(x='Height', y='Potential', data=df)\n",
    "plt.title('Relación entre Estatura y Potencial')\n",
    "plt.show()"
   ]
  },
  {
   "cell_type": "markdown",
   "id": "ea8e2827",
   "metadata": {},
   "source": [
    "# 5. Jugadores destacados\n",
    "\n",
    "## 5.1 Jugadores mejor remunerados"
   ]
  },
  {
   "cell_type": "code",
   "execution_count": null,
   "id": "47e226ec",
   "metadata": {},
   "outputs": [],
   "source": [
    "df[['Name', 'Wage']].sort_values(by='Wage', ascending=False).head(10)"
   ]
  },
  {
   "cell_type": "markdown",
   "id": "79914205",
   "metadata": {},
   "source": [
    "## 5.2 Jugadores con mayor potencial"
   ]
  },
  {
   "cell_type": "code",
   "execution_count": null,
   "id": "7bf3f0ea",
   "metadata": {},
   "outputs": [],
   "source": [
    "df[['Name', 'Potential']].sort_values(by='Potential', ascending=False).head(10)"
   ]
  },
  {
   "cell_type": "markdown",
   "id": "a1367ecd",
   "metadata": {},
   "source": [
    "## 5.3 Jugadores con mejor valoración general"
   ]
  },
  {
   "cell_type": "code",
   "execution_count": null,
   "id": "25256f99",
   "metadata": {},
   "outputs": [],
   "source": [
    "df[['Name', 'Overall']].sort_values(by='Overall', ascending=False).head(10)"
   ]
  },
  {
   "cell_type": "markdown",
   "id": "471c23b3",
   "metadata": {},
   "source": [
    "# 6. Conclusiones\n",
    "\n",
    "- Se identificaron patrones interesantes en las relaciones entre potencial, salario y reputación.\n",
    "- La mayoría de los jugadores tienden a ser diestros.\n",
    "- Determinados países dominan la representación de jugadores.\n",
    "- Hay correlaciones positivas moderadas entre reputación y valor de mercado.\n",
    "- Se pueden proponer futuros estudios como predicción del valor de mercado a partir de atributos físicos y técnicos."
   ]
  }
 ],
 "metadata": {
  "jupytext": {
   "cell_metadata_filter": "-all",
   "main_language": "python",
   "notebook_metadata_filter": "-all"
  }
 },
 "nbformat": 4,
 "nbformat_minor": 5
}
