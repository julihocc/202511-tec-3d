{
 "cells": [
  {
   "cell_type": "markdown",
   "id": "1558f222",
   "metadata": {},
   "source": [
    "# Exploración de Datos FIFA22\n",
    "\n",
    "# 1. Introducción\n",
    "\n",
    "Este análisis tiene como objetivo explorar el conjunto de datos de FIFA22, \n",
    "centrándose en variables clave como el potencial, salario, reputación, valor de mercado y estatura de los jugadores."
   ]
  },
  {
   "cell_type": "markdown",
   "id": "f23453e3",
   "metadata": {},
   "source": [
    "# 2. Carga y exploración inicial de datos\n"
   ]
  },
  {
   "cell_type": "code",
   "execution_count": 43,
   "id": "bea9106b",
   "metadata": {},
   "outputs": [],
   "source": [
    "# 2.1 Importación de librerías\n",
    "import pandas as pd\n",
    "import matplotlib.pyplot as plt\n",
    "import seaborn as sns\n",
    "import kagglehub\n",
    "import os"
   ]
  },
  {
   "cell_type": "code",
   "execution_count": 44,
   "id": "6fd3cdb8",
   "metadata": {},
   "outputs": [
    {
     "name": "stdout",
     "output_type": "stream",
     "text": [
      "The pickle file already exists at: /home/julihocc/tec3d.worktrees/v1.0.0/data/players_22.pkl\n"
     ]
    }
   ],
   "source": [
    "# 2.2 Carga del dataset\n",
    "\n",
    "current_folder = os.getcwd()\n",
    "\n",
    "pickle_dir = os.path.join(current_folder, \"data\")\n",
    "if not os.path.exists(pickle_dir):\n",
    "    os.makedirs(pickle_dir)\n",
    "pickle_file = os.path.join(pickle_dir, \"players_22.pkl\")\n",
    "\n",
    "if os.path.exists(pickle_file):\n",
    "    print(f\"The pickle file already exists at: {pickle_file}\")\n",
    "else:\n",
    "    os.environ[\"KAGGLEHUB_CACHE\"] = current_folder + \"/kagglehub_cache\"\n",
    "    path = kagglehub.dataset_download(\n",
    "        \"stefanoleone992/fifa-22-complete-player-dataset\"\n",
    "    )\n",
    "    print(\"Downloaded path: \", path)\n",
    "    output_file = os.path.join(path, \"players_22.csv\")\n",
    "    pd.read_csv(output_file).to_pickle(pickle_file)\n",
    "\n",
    "df = pd.read_pickle(pickle_file)"
   ]
  },
  {
   "cell_type": "code",
   "execution_count": 45,
   "id": "ac06628d",
   "metadata": {},
   "outputs": [
    {
     "data": {
      "application/vnd.microsoft.datawrangler.viewer.v0+json": {
       "columns": [
        {
         "name": "index",
         "rawType": "int64",
         "type": "integer"
        },
        {
         "name": "sofifa_id",
         "rawType": "int64",
         "type": "integer"
        },
        {
         "name": "player_url",
         "rawType": "object",
         "type": "string"
        },
        {
         "name": "short_name",
         "rawType": "object",
         "type": "string"
        },
        {
         "name": "long_name",
         "rawType": "object",
         "type": "string"
        },
        {
         "name": "player_positions",
         "rawType": "object",
         "type": "string"
        },
        {
         "name": "overall",
         "rawType": "int64",
         "type": "integer"
        },
        {
         "name": "potential",
         "rawType": "int64",
         "type": "integer"
        },
        {
         "name": "value_eur",
         "rawType": "float64",
         "type": "float"
        },
        {
         "name": "wage_eur",
         "rawType": "float64",
         "type": "float"
        },
        {
         "name": "age",
         "rawType": "int64",
         "type": "integer"
        },
        {
         "name": "dob",
         "rawType": "object",
         "type": "string"
        },
        {
         "name": "height_cm",
         "rawType": "int64",
         "type": "integer"
        },
        {
         "name": "weight_kg",
         "rawType": "int64",
         "type": "integer"
        },
        {
         "name": "club_team_id",
         "rawType": "float64",
         "type": "float"
        },
        {
         "name": "club_name",
         "rawType": "object",
         "type": "string"
        },
        {
         "name": "league_name",
         "rawType": "object",
         "type": "string"
        },
        {
         "name": "league_level",
         "rawType": "float64",
         "type": "float"
        },
        {
         "name": "club_position",
         "rawType": "object",
         "type": "string"
        },
        {
         "name": "club_jersey_number",
         "rawType": "float64",
         "type": "float"
        },
        {
         "name": "club_loaned_from",
         "rawType": "object",
         "type": "unknown"
        },
        {
         "name": "club_joined",
         "rawType": "object",
         "type": "string"
        },
        {
         "name": "club_contract_valid_until",
         "rawType": "float64",
         "type": "float"
        },
        {
         "name": "nationality_id",
         "rawType": "int64",
         "type": "integer"
        },
        {
         "name": "nationality_name",
         "rawType": "object",
         "type": "string"
        },
        {
         "name": "nation_team_id",
         "rawType": "float64",
         "type": "float"
        },
        {
         "name": "nation_position",
         "rawType": "object",
         "type": "unknown"
        },
        {
         "name": "nation_jersey_number",
         "rawType": "float64",
         "type": "float"
        },
        {
         "name": "preferred_foot",
         "rawType": "object",
         "type": "string"
        },
        {
         "name": "weak_foot",
         "rawType": "int64",
         "type": "integer"
        },
        {
         "name": "skill_moves",
         "rawType": "int64",
         "type": "integer"
        },
        {
         "name": "international_reputation",
         "rawType": "int64",
         "type": "integer"
        },
        {
         "name": "work_rate",
         "rawType": "object",
         "type": "string"
        },
        {
         "name": "body_type",
         "rawType": "object",
         "type": "string"
        },
        {
         "name": "real_face",
         "rawType": "object",
         "type": "string"
        },
        {
         "name": "release_clause_eur",
         "rawType": "float64",
         "type": "float"
        },
        {
         "name": "player_tags",
         "rawType": "object",
         "type": "string"
        },
        {
         "name": "player_traits",
         "rawType": "object",
         "type": "string"
        },
        {
         "name": "pace",
         "rawType": "float64",
         "type": "float"
        },
        {
         "name": "shooting",
         "rawType": "float64",
         "type": "float"
        },
        {
         "name": "passing",
         "rawType": "float64",
         "type": "float"
        },
        {
         "name": "dribbling",
         "rawType": "float64",
         "type": "float"
        },
        {
         "name": "defending",
         "rawType": "float64",
         "type": "float"
        },
        {
         "name": "physic",
         "rawType": "float64",
         "type": "float"
        },
        {
         "name": "attacking_crossing",
         "rawType": "int64",
         "type": "integer"
        },
        {
         "name": "attacking_finishing",
         "rawType": "int64",
         "type": "integer"
        },
        {
         "name": "attacking_heading_accuracy",
         "rawType": "int64",
         "type": "integer"
        },
        {
         "name": "attacking_short_passing",
         "rawType": "int64",
         "type": "integer"
        },
        {
         "name": "attacking_volleys",
         "rawType": "int64",
         "type": "integer"
        },
        {
         "name": "skill_dribbling",
         "rawType": "int64",
         "type": "integer"
        },
        {
         "name": "skill_curve",
         "rawType": "int64",
         "type": "integer"
        },
        {
         "name": "skill_fk_accuracy",
         "rawType": "int64",
         "type": "integer"
        },
        {
         "name": "skill_long_passing",
         "rawType": "int64",
         "type": "integer"
        },
        {
         "name": "skill_ball_control",
         "rawType": "int64",
         "type": "integer"
        },
        {
         "name": "movement_acceleration",
         "rawType": "int64",
         "type": "integer"
        },
        {
         "name": "movement_sprint_speed",
         "rawType": "int64",
         "type": "integer"
        },
        {
         "name": "movement_agility",
         "rawType": "int64",
         "type": "integer"
        },
        {
         "name": "movement_reactions",
         "rawType": "int64",
         "type": "integer"
        },
        {
         "name": "movement_balance",
         "rawType": "int64",
         "type": "integer"
        },
        {
         "name": "power_shot_power",
         "rawType": "int64",
         "type": "integer"
        },
        {
         "name": "power_jumping",
         "rawType": "int64",
         "type": "integer"
        },
        {
         "name": "power_stamina",
         "rawType": "int64",
         "type": "integer"
        },
        {
         "name": "power_strength",
         "rawType": "int64",
         "type": "integer"
        },
        {
         "name": "power_long_shots",
         "rawType": "int64",
         "type": "integer"
        },
        {
         "name": "mentality_aggression",
         "rawType": "int64",
         "type": "integer"
        },
        {
         "name": "mentality_interceptions",
         "rawType": "int64",
         "type": "integer"
        },
        {
         "name": "mentality_positioning",
         "rawType": "int64",
         "type": "integer"
        },
        {
         "name": "mentality_vision",
         "rawType": "int64",
         "type": "integer"
        },
        {
         "name": "mentality_penalties",
         "rawType": "int64",
         "type": "integer"
        },
        {
         "name": "mentality_composure",
         "rawType": "int64",
         "type": "integer"
        },
        {
         "name": "defending_marking_awareness",
         "rawType": "int64",
         "type": "integer"
        },
        {
         "name": "defending_standing_tackle",
         "rawType": "int64",
         "type": "integer"
        },
        {
         "name": "defending_sliding_tackle",
         "rawType": "int64",
         "type": "integer"
        },
        {
         "name": "goalkeeping_diving",
         "rawType": "int64",
         "type": "integer"
        },
        {
         "name": "goalkeeping_handling",
         "rawType": "int64",
         "type": "integer"
        },
        {
         "name": "goalkeeping_kicking",
         "rawType": "int64",
         "type": "integer"
        },
        {
         "name": "goalkeeping_positioning",
         "rawType": "int64",
         "type": "integer"
        },
        {
         "name": "goalkeeping_reflexes",
         "rawType": "int64",
         "type": "integer"
        },
        {
         "name": "goalkeeping_speed",
         "rawType": "float64",
         "type": "float"
        },
        {
         "name": "ls",
         "rawType": "object",
         "type": "string"
        },
        {
         "name": "st",
         "rawType": "object",
         "type": "string"
        },
        {
         "name": "rs",
         "rawType": "object",
         "type": "string"
        },
        {
         "name": "lw",
         "rawType": "object",
         "type": "string"
        },
        {
         "name": "lf",
         "rawType": "object",
         "type": "string"
        },
        {
         "name": "cf",
         "rawType": "object",
         "type": "string"
        },
        {
         "name": "rf",
         "rawType": "object",
         "type": "string"
        },
        {
         "name": "rw",
         "rawType": "object",
         "type": "string"
        },
        {
         "name": "lam",
         "rawType": "object",
         "type": "string"
        },
        {
         "name": "cam",
         "rawType": "object",
         "type": "string"
        },
        {
         "name": "ram",
         "rawType": "object",
         "type": "string"
        },
        {
         "name": "lm",
         "rawType": "object",
         "type": "string"
        },
        {
         "name": "lcm",
         "rawType": "object",
         "type": "string"
        },
        {
         "name": "cm",
         "rawType": "object",
         "type": "string"
        },
        {
         "name": "rcm",
         "rawType": "object",
         "type": "string"
        },
        {
         "name": "rm",
         "rawType": "object",
         "type": "string"
        },
        {
         "name": "lwb",
         "rawType": "object",
         "type": "string"
        },
        {
         "name": "ldm",
         "rawType": "object",
         "type": "string"
        },
        {
         "name": "cdm",
         "rawType": "object",
         "type": "string"
        },
        {
         "name": "rdm",
         "rawType": "object",
         "type": "string"
        },
        {
         "name": "rwb",
         "rawType": "object",
         "type": "string"
        },
        {
         "name": "lb",
         "rawType": "object",
         "type": "string"
        },
        {
         "name": "lcb",
         "rawType": "object",
         "type": "string"
        },
        {
         "name": "cb",
         "rawType": "object",
         "type": "string"
        },
        {
         "name": "rcb",
         "rawType": "object",
         "type": "string"
        },
        {
         "name": "rb",
         "rawType": "object",
         "type": "string"
        },
        {
         "name": "gk",
         "rawType": "object",
         "type": "string"
        },
        {
         "name": "player_face_url",
         "rawType": "object",
         "type": "string"
        },
        {
         "name": "club_logo_url",
         "rawType": "object",
         "type": "string"
        },
        {
         "name": "club_flag_url",
         "rawType": "object",
         "type": "string"
        },
        {
         "name": "nation_logo_url",
         "rawType": "object",
         "type": "unknown"
        },
        {
         "name": "nation_flag_url",
         "rawType": "object",
         "type": "string"
        }
       ],
       "conversionMethod": "pd.DataFrame",
       "ref": "6c6dad61-9a0c-4674-bb18-b523dbd23aec",
       "rows": [
        [
         "0",
         "158023",
         "https://sofifa.com/player/158023/lionel-messi/220002",
         "L. Messi",
         "Lionel Andrés Messi Cuccittini",
         "RW, ST, CF",
         "93",
         "93",
         "78000000.0",
         "320000.0",
         "34",
         "1987-06-24",
         "170",
         "72",
         "73.0",
         "Paris Saint-Germain",
         "French Ligue 1",
         "1.0",
         "RW",
         "30.0",
         null,
         "2021-08-10",
         "2023.0",
         "52",
         "Argentina",
         "1369.0",
         "RW",
         "10.0",
         "Left",
         "4",
         "4",
         "5",
         "Medium/Low",
         "Unique",
         "Yes",
         "144300000.0",
         "#Dribbler, #Distance Shooter, #FK Specialist, #Acrobat, #Clinical Finisher, #Complete Forward",
         "Finesse Shot, Long Shot Taker (AI), Playmaker (AI), Outside Foot Shot, One Club Player, Chip Shot (AI), Technical Dribbler (AI)",
         "85.0",
         "92.0",
         "91.0",
         "95.0",
         "34.0",
         "65.0",
         "85",
         "95",
         "70",
         "91",
         "88",
         "96",
         "93",
         "94",
         "91",
         "96",
         "91",
         "80",
         "91",
         "94",
         "95",
         "86",
         "68",
         "72",
         "69",
         "94",
         "44",
         "40",
         "93",
         "95",
         "75",
         "96",
         "20",
         "35",
         "24",
         "6",
         "11",
         "15",
         "14",
         "8",
         null,
         "89+3",
         "89+3",
         "89+3",
         "92",
         "93",
         "93",
         "93",
         "92",
         "93",
         "93",
         "93",
         "91+2",
         "87+3",
         "87+3",
         "87+3",
         "91+2",
         "66+3",
         "64+3",
         "64+3",
         "64+3",
         "66+3",
         "61+3",
         "50+3",
         "50+3",
         "50+3",
         "61+3",
         "19+3",
         "https://cdn.sofifa.net/players/158/023/22_120.png",
         "https://cdn.sofifa.net/teams/73/60.png",
         "https://cdn.sofifa.net/flags/fr.png",
         "https://cdn.sofifa.net/teams/1369/60.png",
         "https://cdn.sofifa.net/flags/ar.png"
        ],
        [
         "1",
         "188545",
         "https://sofifa.com/player/188545/robert-lewandowski/220002",
         "R. Lewandowski",
         "Robert Lewandowski",
         "ST",
         "92",
         "92",
         "119500000.0",
         "270000.0",
         "32",
         "1988-08-21",
         "185",
         "81",
         "21.0",
         "FC Bayern München",
         "German 1. Bundesliga",
         "1.0",
         "ST",
         "9.0",
         null,
         "2014-07-01",
         "2023.0",
         "37",
         "Poland",
         "1353.0",
         "RS",
         "9.0",
         "Right",
         "4",
         "4",
         "5",
         "High/Medium",
         "Unique",
         "Yes",
         "197200000.0",
         "#Aerial Threat, #Distance Shooter, #Clinical Finisher, #Complete Forward",
         "Solid Player, Finesse Shot, Outside Foot Shot, Chip Shot (AI)",
         "78.0",
         "92.0",
         "79.0",
         "86.0",
         "44.0",
         "82.0",
         "71",
         "95",
         "90",
         "85",
         "89",
         "85",
         "79",
         "85",
         "70",
         "88",
         "77",
         "79",
         "77",
         "93",
         "82",
         "90",
         "85",
         "76",
         "86",
         "87",
         "81",
         "49",
         "95",
         "81",
         "90",
         "88",
         "35",
         "42",
         "19",
         "15",
         "6",
         "12",
         "8",
         "10",
         null,
         "90+2",
         "90+2",
         "90+2",
         "85",
         "88",
         "88",
         "88",
         "85",
         "86+3",
         "86+3",
         "86+3",
         "84+3",
         "80+3",
         "80+3",
         "80+3",
         "84+3",
         "64+3",
         "66+3",
         "66+3",
         "66+3",
         "64+3",
         "61+3",
         "60+3",
         "60+3",
         "60+3",
         "61+3",
         "19+3",
         "https://cdn.sofifa.net/players/188/545/22_120.png",
         "https://cdn.sofifa.net/teams/21/60.png",
         "https://cdn.sofifa.net/flags/de.png",
         "https://cdn.sofifa.net/teams/1353/60.png",
         "https://cdn.sofifa.net/flags/pl.png"
        ],
        [
         "2",
         "20801",
         "https://sofifa.com/player/20801/c-ronaldo-dos-santos-aveiro/220002",
         "Cristiano Ronaldo",
         "Cristiano Ronaldo dos Santos Aveiro",
         "ST, LW",
         "91",
         "91",
         "45000000.0",
         "270000.0",
         "36",
         "1985-02-05",
         "187",
         "83",
         "11.0",
         "Manchester United",
         "English Premier League",
         "1.0",
         "ST",
         "7.0",
         null,
         "2021-08-27",
         "2023.0",
         "38",
         "Portugal",
         "1354.0",
         "ST",
         "7.0",
         "Right",
         "4",
         "5",
         "5",
         "High/Low",
         "Unique",
         "Yes",
         "83300000.0",
         "#Aerial Threat, #Dribbler, #Distance Shooter, #Crosser, #Acrobat, #Clinical Finisher, #Complete Forward",
         "Power Free-Kick, Flair, Long Shot Taker (AI), Speed Dribbler (AI), Outside Foot Shot",
         "87.0",
         "94.0",
         "80.0",
         "88.0",
         "34.0",
         "75.0",
         "87",
         "95",
         "90",
         "80",
         "86",
         "88",
         "81",
         "84",
         "77",
         "88",
         "85",
         "88",
         "86",
         "94",
         "74",
         "94",
         "95",
         "77",
         "77",
         "93",
         "63",
         "29",
         "95",
         "76",
         "88",
         "95",
         "24",
         "32",
         "24",
         "7",
         "11",
         "15",
         "14",
         "11",
         null,
         "90+1",
         "90+1",
         "90+1",
         "88",
         "89",
         "89",
         "89",
         "88",
         "86+3",
         "86+3",
         "86+3",
         "86+3",
         "78+3",
         "78+3",
         "78+3",
         "86+3",
         "63+3",
         "59+3",
         "59+3",
         "59+3",
         "63+3",
         "60+3",
         "53+3",
         "53+3",
         "53+3",
         "60+3",
         "20+3",
         "https://cdn.sofifa.net/players/020/801/22_120.png",
         "https://cdn.sofifa.net/teams/11/60.png",
         "https://cdn.sofifa.net/flags/gb-eng.png",
         "https://cdn.sofifa.net/teams/1354/60.png",
         "https://cdn.sofifa.net/flags/pt.png"
        ],
        [
         "3",
         "190871",
         "https://sofifa.com/player/190871/neymar-da-silva-santos-jr/220002",
         "Neymar Jr",
         "Neymar da Silva Santos Júnior",
         "LW, CAM",
         "91",
         "91",
         "129000000.0",
         "270000.0",
         "29",
         "1992-02-05",
         "175",
         "68",
         "73.0",
         "Paris Saint-Germain",
         "French Ligue 1",
         "1.0",
         "LW",
         "10.0",
         null,
         "2017-08-03",
         "2025.0",
         "54",
         "Brazil",
         null,
         null,
         null,
         "Right",
         "5",
         "5",
         "5",
         "High/Medium",
         "Unique",
         "Yes",
         "238700000.0",
         "#Speedster, #Dribbler, #Playmaker, #FK Specialist, #Acrobat, #Complete Midfielder",
         "Injury Prone, Flair, Speed Dribbler (AI), Playmaker (AI), Outside Foot Shot, Technical Dribbler (AI)",
         "91.0",
         "83.0",
         "86.0",
         "94.0",
         "37.0",
         "63.0",
         "85",
         "83",
         "63",
         "86",
         "86",
         "95",
         "88",
         "87",
         "81",
         "95",
         "93",
         "89",
         "96",
         "89",
         "84",
         "80",
         "64",
         "81",
         "53",
         "81",
         "63",
         "37",
         "86",
         "90",
         "93",
         "93",
         "35",
         "32",
         "29",
         "9",
         "9",
         "15",
         "15",
         "11",
         null,
         "83+3",
         "83+3",
         "83+3",
         "90",
         "88",
         "88",
         "88",
         "90",
         "89+2",
         "89+2",
         "89+2",
         "89+2",
         "82+3",
         "82+3",
         "82+3",
         "89+2",
         "67+3",
         "63+3",
         "63+3",
         "63+3",
         "67+3",
         "62+3",
         "50+3",
         "50+3",
         "50+3",
         "62+3",
         "20+3",
         "https://cdn.sofifa.net/players/190/871/22_120.png",
         "https://cdn.sofifa.net/teams/73/60.png",
         "https://cdn.sofifa.net/flags/fr.png",
         null,
         "https://cdn.sofifa.net/flags/br.png"
        ],
        [
         "4",
         "192985",
         "https://sofifa.com/player/192985/kevin-de-bruyne/220002",
         "K. De Bruyne",
         "Kevin De Bruyne",
         "CM, CAM",
         "91",
         "91",
         "125500000.0",
         "350000.0",
         "30",
         "1991-06-28",
         "181",
         "70",
         "10.0",
         "Manchester City",
         "English Premier League",
         "1.0",
         "RCM",
         "17.0",
         null,
         "2015-08-30",
         "2025.0",
         "7",
         "Belgium",
         "1325.0",
         "RCM",
         "7.0",
         "Right",
         "5",
         "4",
         "4",
         "High/High",
         "Unique",
         "Yes",
         "232200000.0",
         "#Dribbler, #Playmaker, #Engine, #Distance Shooter, #Crosser, #Complete Midfielder",
         "Injury Prone, Leadership, Early Crosser, Long Passer (AI), Long Shot Taker (AI), Playmaker (AI), Outside Foot Shot",
         "76.0",
         "86.0",
         "93.0",
         "88.0",
         "64.0",
         "78.0",
         "94",
         "82",
         "55",
         "94",
         "82",
         "88",
         "85",
         "83",
         "93",
         "91",
         "76",
         "76",
         "79",
         "91",
         "78",
         "91",
         "63",
         "89",
         "74",
         "91",
         "76",
         "66",
         "88",
         "94",
         "83",
         "89",
         "68",
         "65",
         "53",
         "15",
         "13",
         "5",
         "10",
         "13",
         null,
         "83+3",
         "83+3",
         "83+3",
         "88",
         "87",
         "87",
         "87",
         "88",
         "89+2",
         "89+2",
         "89+2",
         "89+2",
         "89+2",
         "89+2",
         "89+2",
         "89+2",
         "79+3",
         "80+3",
         "80+3",
         "80+3",
         "79+3",
         "75+3",
         "69+3",
         "69+3",
         "69+3",
         "75+3",
         "21+3",
         "https://cdn.sofifa.net/players/192/985/22_120.png",
         "https://cdn.sofifa.net/teams/10/60.png",
         "https://cdn.sofifa.net/flags/gb-eng.png",
         "https://cdn.sofifa.net/teams/1325/60.png",
         "https://cdn.sofifa.net/flags/be.png"
        ]
       ],
       "shape": {
        "columns": 110,
        "rows": 5
       }
      },
      "text/html": [
       "<div>\n",
       "<style scoped>\n",
       "    .dataframe tbody tr th:only-of-type {\n",
       "        vertical-align: middle;\n",
       "    }\n",
       "\n",
       "    .dataframe tbody tr th {\n",
       "        vertical-align: top;\n",
       "    }\n",
       "\n",
       "    .dataframe thead th {\n",
       "        text-align: right;\n",
       "    }\n",
       "</style>\n",
       "<table border=\"1\" class=\"dataframe\">\n",
       "  <thead>\n",
       "    <tr style=\"text-align: right;\">\n",
       "      <th></th>\n",
       "      <th>sofifa_id</th>\n",
       "      <th>player_url</th>\n",
       "      <th>short_name</th>\n",
       "      <th>long_name</th>\n",
       "      <th>player_positions</th>\n",
       "      <th>overall</th>\n",
       "      <th>potential</th>\n",
       "      <th>value_eur</th>\n",
       "      <th>wage_eur</th>\n",
       "      <th>age</th>\n",
       "      <th>...</th>\n",
       "      <th>lcb</th>\n",
       "      <th>cb</th>\n",
       "      <th>rcb</th>\n",
       "      <th>rb</th>\n",
       "      <th>gk</th>\n",
       "      <th>player_face_url</th>\n",
       "      <th>club_logo_url</th>\n",
       "      <th>club_flag_url</th>\n",
       "      <th>nation_logo_url</th>\n",
       "      <th>nation_flag_url</th>\n",
       "    </tr>\n",
       "  </thead>\n",
       "  <tbody>\n",
       "    <tr>\n",
       "      <th>0</th>\n",
       "      <td>158023</td>\n",
       "      <td>https://sofifa.com/player/158023/lionel-messi/...</td>\n",
       "      <td>L. Messi</td>\n",
       "      <td>Lionel Andrés Messi Cuccittini</td>\n",
       "      <td>RW, ST, CF</td>\n",
       "      <td>93</td>\n",
       "      <td>93</td>\n",
       "      <td>78000000.0</td>\n",
       "      <td>320000.0</td>\n",
       "      <td>34</td>\n",
       "      <td>...</td>\n",
       "      <td>50+3</td>\n",
       "      <td>50+3</td>\n",
       "      <td>50+3</td>\n",
       "      <td>61+3</td>\n",
       "      <td>19+3</td>\n",
       "      <td>https://cdn.sofifa.net/players/158/023/22_120.png</td>\n",
       "      <td>https://cdn.sofifa.net/teams/73/60.png</td>\n",
       "      <td>https://cdn.sofifa.net/flags/fr.png</td>\n",
       "      <td>https://cdn.sofifa.net/teams/1369/60.png</td>\n",
       "      <td>https://cdn.sofifa.net/flags/ar.png</td>\n",
       "    </tr>\n",
       "    <tr>\n",
       "      <th>1</th>\n",
       "      <td>188545</td>\n",
       "      <td>https://sofifa.com/player/188545/robert-lewand...</td>\n",
       "      <td>R. Lewandowski</td>\n",
       "      <td>Robert Lewandowski</td>\n",
       "      <td>ST</td>\n",
       "      <td>92</td>\n",
       "      <td>92</td>\n",
       "      <td>119500000.0</td>\n",
       "      <td>270000.0</td>\n",
       "      <td>32</td>\n",
       "      <td>...</td>\n",
       "      <td>60+3</td>\n",
       "      <td>60+3</td>\n",
       "      <td>60+3</td>\n",
       "      <td>61+3</td>\n",
       "      <td>19+3</td>\n",
       "      <td>https://cdn.sofifa.net/players/188/545/22_120.png</td>\n",
       "      <td>https://cdn.sofifa.net/teams/21/60.png</td>\n",
       "      <td>https://cdn.sofifa.net/flags/de.png</td>\n",
       "      <td>https://cdn.sofifa.net/teams/1353/60.png</td>\n",
       "      <td>https://cdn.sofifa.net/flags/pl.png</td>\n",
       "    </tr>\n",
       "    <tr>\n",
       "      <th>2</th>\n",
       "      <td>20801</td>\n",
       "      <td>https://sofifa.com/player/20801/c-ronaldo-dos-...</td>\n",
       "      <td>Cristiano Ronaldo</td>\n",
       "      <td>Cristiano Ronaldo dos Santos Aveiro</td>\n",
       "      <td>ST, LW</td>\n",
       "      <td>91</td>\n",
       "      <td>91</td>\n",
       "      <td>45000000.0</td>\n",
       "      <td>270000.0</td>\n",
       "      <td>36</td>\n",
       "      <td>...</td>\n",
       "      <td>53+3</td>\n",
       "      <td>53+3</td>\n",
       "      <td>53+3</td>\n",
       "      <td>60+3</td>\n",
       "      <td>20+3</td>\n",
       "      <td>https://cdn.sofifa.net/players/020/801/22_120.png</td>\n",
       "      <td>https://cdn.sofifa.net/teams/11/60.png</td>\n",
       "      <td>https://cdn.sofifa.net/flags/gb-eng.png</td>\n",
       "      <td>https://cdn.sofifa.net/teams/1354/60.png</td>\n",
       "      <td>https://cdn.sofifa.net/flags/pt.png</td>\n",
       "    </tr>\n",
       "    <tr>\n",
       "      <th>3</th>\n",
       "      <td>190871</td>\n",
       "      <td>https://sofifa.com/player/190871/neymar-da-sil...</td>\n",
       "      <td>Neymar Jr</td>\n",
       "      <td>Neymar da Silva Santos Júnior</td>\n",
       "      <td>LW, CAM</td>\n",
       "      <td>91</td>\n",
       "      <td>91</td>\n",
       "      <td>129000000.0</td>\n",
       "      <td>270000.0</td>\n",
       "      <td>29</td>\n",
       "      <td>...</td>\n",
       "      <td>50+3</td>\n",
       "      <td>50+3</td>\n",
       "      <td>50+3</td>\n",
       "      <td>62+3</td>\n",
       "      <td>20+3</td>\n",
       "      <td>https://cdn.sofifa.net/players/190/871/22_120.png</td>\n",
       "      <td>https://cdn.sofifa.net/teams/73/60.png</td>\n",
       "      <td>https://cdn.sofifa.net/flags/fr.png</td>\n",
       "      <td>NaN</td>\n",
       "      <td>https://cdn.sofifa.net/flags/br.png</td>\n",
       "    </tr>\n",
       "    <tr>\n",
       "      <th>4</th>\n",
       "      <td>192985</td>\n",
       "      <td>https://sofifa.com/player/192985/kevin-de-bruy...</td>\n",
       "      <td>K. De Bruyne</td>\n",
       "      <td>Kevin De Bruyne</td>\n",
       "      <td>CM, CAM</td>\n",
       "      <td>91</td>\n",
       "      <td>91</td>\n",
       "      <td>125500000.0</td>\n",
       "      <td>350000.0</td>\n",
       "      <td>30</td>\n",
       "      <td>...</td>\n",
       "      <td>69+3</td>\n",
       "      <td>69+3</td>\n",
       "      <td>69+3</td>\n",
       "      <td>75+3</td>\n",
       "      <td>21+3</td>\n",
       "      <td>https://cdn.sofifa.net/players/192/985/22_120.png</td>\n",
       "      <td>https://cdn.sofifa.net/teams/10/60.png</td>\n",
       "      <td>https://cdn.sofifa.net/flags/gb-eng.png</td>\n",
       "      <td>https://cdn.sofifa.net/teams/1325/60.png</td>\n",
       "      <td>https://cdn.sofifa.net/flags/be.png</td>\n",
       "    </tr>\n",
       "  </tbody>\n",
       "</table>\n",
       "<p>5 rows × 110 columns</p>\n",
       "</div>"
      ],
      "text/plain": [
       "   sofifa_id                                         player_url  \\\n",
       "0     158023  https://sofifa.com/player/158023/lionel-messi/...   \n",
       "1     188545  https://sofifa.com/player/188545/robert-lewand...   \n",
       "2      20801  https://sofifa.com/player/20801/c-ronaldo-dos-...   \n",
       "3     190871  https://sofifa.com/player/190871/neymar-da-sil...   \n",
       "4     192985  https://sofifa.com/player/192985/kevin-de-bruy...   \n",
       "\n",
       "          short_name                            long_name player_positions  \\\n",
       "0           L. Messi       Lionel Andrés Messi Cuccittini       RW, ST, CF   \n",
       "1     R. Lewandowski                   Robert Lewandowski               ST   \n",
       "2  Cristiano Ronaldo  Cristiano Ronaldo dos Santos Aveiro           ST, LW   \n",
       "3          Neymar Jr        Neymar da Silva Santos Júnior          LW, CAM   \n",
       "4       K. De Bruyne                      Kevin De Bruyne          CM, CAM   \n",
       "\n",
       "   overall  potential    value_eur  wage_eur  age  ...   lcb    cb   rcb  \\\n",
       "0       93         93   78000000.0  320000.0   34  ...  50+3  50+3  50+3   \n",
       "1       92         92  119500000.0  270000.0   32  ...  60+3  60+3  60+3   \n",
       "2       91         91   45000000.0  270000.0   36  ...  53+3  53+3  53+3   \n",
       "3       91         91  129000000.0  270000.0   29  ...  50+3  50+3  50+3   \n",
       "4       91         91  125500000.0  350000.0   30  ...  69+3  69+3  69+3   \n",
       "\n",
       "     rb    gk                                    player_face_url  \\\n",
       "0  61+3  19+3  https://cdn.sofifa.net/players/158/023/22_120.png   \n",
       "1  61+3  19+3  https://cdn.sofifa.net/players/188/545/22_120.png   \n",
       "2  60+3  20+3  https://cdn.sofifa.net/players/020/801/22_120.png   \n",
       "3  62+3  20+3  https://cdn.sofifa.net/players/190/871/22_120.png   \n",
       "4  75+3  21+3  https://cdn.sofifa.net/players/192/985/22_120.png   \n",
       "\n",
       "                            club_logo_url  \\\n",
       "0  https://cdn.sofifa.net/teams/73/60.png   \n",
       "1  https://cdn.sofifa.net/teams/21/60.png   \n",
       "2  https://cdn.sofifa.net/teams/11/60.png   \n",
       "3  https://cdn.sofifa.net/teams/73/60.png   \n",
       "4  https://cdn.sofifa.net/teams/10/60.png   \n",
       "\n",
       "                             club_flag_url  \\\n",
       "0      https://cdn.sofifa.net/flags/fr.png   \n",
       "1      https://cdn.sofifa.net/flags/de.png   \n",
       "2  https://cdn.sofifa.net/flags/gb-eng.png   \n",
       "3      https://cdn.sofifa.net/flags/fr.png   \n",
       "4  https://cdn.sofifa.net/flags/gb-eng.png   \n",
       "\n",
       "                            nation_logo_url  \\\n",
       "0  https://cdn.sofifa.net/teams/1369/60.png   \n",
       "1  https://cdn.sofifa.net/teams/1353/60.png   \n",
       "2  https://cdn.sofifa.net/teams/1354/60.png   \n",
       "3                                       NaN   \n",
       "4  https://cdn.sofifa.net/teams/1325/60.png   \n",
       "\n",
       "                       nation_flag_url  \n",
       "0  https://cdn.sofifa.net/flags/ar.png  \n",
       "1  https://cdn.sofifa.net/flags/pl.png  \n",
       "2  https://cdn.sofifa.net/flags/pt.png  \n",
       "3  https://cdn.sofifa.net/flags/br.png  \n",
       "4  https://cdn.sofifa.net/flags/be.png  \n",
       "\n",
       "[5 rows x 110 columns]"
      ]
     },
     "execution_count": 45,
     "metadata": {},
     "output_type": "execute_result"
    }
   ],
   "source": [
    "# 2.3 Exploración inicial\n",
    "df.head()"
   ]
  },
  {
   "cell_type": "code",
   "execution_count": 46,
   "id": "c584b63a",
   "metadata": {},
   "outputs": [
    {
     "name": "stdout",
     "output_type": "stream",
     "text": [
      "<class 'pandas.core.frame.DataFrame'>\n",
      "RangeIndex: 19239 entries, 0 to 19238\n",
      "Columns: 110 entries, sofifa_id to nation_flag_url\n",
      "dtypes: float64(16), int64(44), object(50)\n",
      "memory usage: 16.1+ MB\n"
     ]
    }
   ],
   "source": [
    "df.info()"
   ]
  },
  {
   "cell_type": "code",
   "execution_count": 47,
   "id": "bf3414f5",
   "metadata": {},
   "outputs": [
    {
     "data": {
      "application/vnd.microsoft.datawrangler.viewer.v0+json": {
       "columns": [
        {
         "name": "index",
         "rawType": "object",
         "type": "string"
        },
        {
         "name": "sofifa_id",
         "rawType": "float64",
         "type": "float"
        },
        {
         "name": "overall",
         "rawType": "float64",
         "type": "float"
        },
        {
         "name": "potential",
         "rawType": "float64",
         "type": "float"
        },
        {
         "name": "value_eur",
         "rawType": "float64",
         "type": "float"
        },
        {
         "name": "wage_eur",
         "rawType": "float64",
         "type": "float"
        },
        {
         "name": "age",
         "rawType": "float64",
         "type": "float"
        },
        {
         "name": "height_cm",
         "rawType": "float64",
         "type": "float"
        },
        {
         "name": "weight_kg",
         "rawType": "float64",
         "type": "float"
        },
        {
         "name": "club_team_id",
         "rawType": "float64",
         "type": "float"
        },
        {
         "name": "league_level",
         "rawType": "float64",
         "type": "float"
        },
        {
         "name": "club_jersey_number",
         "rawType": "float64",
         "type": "float"
        },
        {
         "name": "club_contract_valid_until",
         "rawType": "float64",
         "type": "float"
        },
        {
         "name": "nationality_id",
         "rawType": "float64",
         "type": "float"
        },
        {
         "name": "nation_team_id",
         "rawType": "float64",
         "type": "float"
        },
        {
         "name": "nation_jersey_number",
         "rawType": "float64",
         "type": "float"
        },
        {
         "name": "weak_foot",
         "rawType": "float64",
         "type": "float"
        },
        {
         "name": "skill_moves",
         "rawType": "float64",
         "type": "float"
        },
        {
         "name": "international_reputation",
         "rawType": "float64",
         "type": "float"
        },
        {
         "name": "release_clause_eur",
         "rawType": "float64",
         "type": "float"
        },
        {
         "name": "pace",
         "rawType": "float64",
         "type": "float"
        },
        {
         "name": "shooting",
         "rawType": "float64",
         "type": "float"
        },
        {
         "name": "passing",
         "rawType": "float64",
         "type": "float"
        },
        {
         "name": "dribbling",
         "rawType": "float64",
         "type": "float"
        },
        {
         "name": "defending",
         "rawType": "float64",
         "type": "float"
        },
        {
         "name": "physic",
         "rawType": "float64",
         "type": "float"
        },
        {
         "name": "attacking_crossing",
         "rawType": "float64",
         "type": "float"
        },
        {
         "name": "attacking_finishing",
         "rawType": "float64",
         "type": "float"
        },
        {
         "name": "attacking_heading_accuracy",
         "rawType": "float64",
         "type": "float"
        },
        {
         "name": "attacking_short_passing",
         "rawType": "float64",
         "type": "float"
        },
        {
         "name": "attacking_volleys",
         "rawType": "float64",
         "type": "float"
        },
        {
         "name": "skill_dribbling",
         "rawType": "float64",
         "type": "float"
        },
        {
         "name": "skill_curve",
         "rawType": "float64",
         "type": "float"
        },
        {
         "name": "skill_fk_accuracy",
         "rawType": "float64",
         "type": "float"
        },
        {
         "name": "skill_long_passing",
         "rawType": "float64",
         "type": "float"
        },
        {
         "name": "skill_ball_control",
         "rawType": "float64",
         "type": "float"
        },
        {
         "name": "movement_acceleration",
         "rawType": "float64",
         "type": "float"
        },
        {
         "name": "movement_sprint_speed",
         "rawType": "float64",
         "type": "float"
        },
        {
         "name": "movement_agility",
         "rawType": "float64",
         "type": "float"
        },
        {
         "name": "movement_reactions",
         "rawType": "float64",
         "type": "float"
        },
        {
         "name": "movement_balance",
         "rawType": "float64",
         "type": "float"
        },
        {
         "name": "power_shot_power",
         "rawType": "float64",
         "type": "float"
        },
        {
         "name": "power_jumping",
         "rawType": "float64",
         "type": "float"
        },
        {
         "name": "power_stamina",
         "rawType": "float64",
         "type": "float"
        },
        {
         "name": "power_strength",
         "rawType": "float64",
         "type": "float"
        },
        {
         "name": "power_long_shots",
         "rawType": "float64",
         "type": "float"
        },
        {
         "name": "mentality_aggression",
         "rawType": "float64",
         "type": "float"
        },
        {
         "name": "mentality_interceptions",
         "rawType": "float64",
         "type": "float"
        },
        {
         "name": "mentality_positioning",
         "rawType": "float64",
         "type": "float"
        },
        {
         "name": "mentality_vision",
         "rawType": "float64",
         "type": "float"
        },
        {
         "name": "mentality_penalties",
         "rawType": "float64",
         "type": "float"
        },
        {
         "name": "mentality_composure",
         "rawType": "float64",
         "type": "float"
        },
        {
         "name": "defending_marking_awareness",
         "rawType": "float64",
         "type": "float"
        },
        {
         "name": "defending_standing_tackle",
         "rawType": "float64",
         "type": "float"
        },
        {
         "name": "defending_sliding_tackle",
         "rawType": "float64",
         "type": "float"
        },
        {
         "name": "goalkeeping_diving",
         "rawType": "float64",
         "type": "float"
        },
        {
         "name": "goalkeeping_handling",
         "rawType": "float64",
         "type": "float"
        },
        {
         "name": "goalkeeping_kicking",
         "rawType": "float64",
         "type": "float"
        },
        {
         "name": "goalkeeping_positioning",
         "rawType": "float64",
         "type": "float"
        },
        {
         "name": "goalkeeping_reflexes",
         "rawType": "float64",
         "type": "float"
        },
        {
         "name": "goalkeeping_speed",
         "rawType": "float64",
         "type": "float"
        }
       ],
       "conversionMethod": "pd.DataFrame",
       "ref": "005ff998-cfa2-4b88-ab61-82c29dc07e8a",
       "rows": [
        [
         "count",
         "19239.0",
         "19239.0",
         "19239.0",
         "19165.0",
         "19178.0",
         "19239.0",
         "19239.0",
         "19239.0",
         "19178.0",
         "19178.0",
         "19178.0",
         "19178.0",
         "19239.0",
         "759.0",
         "759.0",
         "19239.0",
         "19239.0",
         "19239.0",
         "18063.0",
         "17107.0",
         "17107.0",
         "17107.0",
         "17107.0",
         "17107.0",
         "17107.0",
         "19239.0",
         "19239.0",
         "19239.0",
         "19239.0",
         "19239.0",
         "19239.0",
         "19239.0",
         "19239.0",
         "19239.0",
         "19239.0",
         "19239.0",
         "19239.0",
         "19239.0",
         "19239.0",
         "19239.0",
         "19239.0",
         "19239.0",
         "19239.0",
         "19239.0",
         "19239.0",
         "19239.0",
         "19239.0",
         "19239.0",
         "19239.0",
         "19239.0",
         "19239.0",
         "19239.0",
         "19239.0",
         "19239.0",
         "19239.0",
         "19239.0",
         "19239.0",
         "19239.0",
         "19239.0",
         "2132.0"
        ],
        [
         "mean",
         "231468.08695878164",
         "65.77218150631529",
         "71.07937002962731",
         "2850451.813201148",
         "9017.989362811555",
         "25.210821768283175",
         "181.29970372680492",
         "74.94303238214044",
         "50580.4981228491",
         "1.3543643758473252",
         "20.945249765356138",
         "2022.7640004171446",
         "58.60268205208171",
         "14480.848484848484",
         "12.567852437417654",
         "2.9461510473517336",
         "2.352461146629243",
         "1.094183689380945",
         "5374044.123346066",
         "68.21307067282399",
         "52.3452972467411",
         "57.31256210907816",
         "62.56117378850763",
         "51.70363009294441",
         "64.82328871222306",
         "49.577420863870266",
         "45.89443318259785",
         "51.78387650085763",
         "58.867976506055406",
         "42.4638494724258",
         "55.660429336244086",
         "47.2689328967202",
         "42.24902541712147",
         "53.07224907739487",
         "58.472009979728675",
         "64.65289256198348",
         "64.7149020219346",
         "63.50007796663028",
         "61.450023389989084",
         "64.06861063464837",
         "57.77685950413223",
         "64.81350382036489",
         "63.084879671500595",
         "65.0077446852747",
         "46.642704922293255",
         "55.53895732626436",
         "46.6135454025677",
         "50.330214668122046",
         "53.96460314985186",
         "47.85872446592858",
         "57.92983003274598",
         "46.60174645251832",
         "48.04558448983835",
         "45.90669993242892",
         "16.40610218826342",
         "16.192473621290087",
         "16.05535630750039",
         "16.229273870783306",
         "16.491813503820364",
         "36.43996247654784"
        ],
        [
         "std",
         "27039.717497127018",
         "6.880231506861689",
         "6.0862131012609",
         "7613699.947458978",
         "19470.176723602686",
         "4.748235247092781",
         "6.863179177196187",
         "7.069434064186432",
         "54401.86853481683",
         "0.7478651440250982",
         "17.909369141981372",
         "1.2132025171866476",
         "50.29861391203941",
         "35328.73021738153",
         "7.039115702087771",
         "0.671560478048015",
         "0.7676590344787977",
         "0.3710981752071121",
         "14948367.962500881",
         "10.933154561507958",
         "14.051622953688101",
         "10.06896519025166",
         "9.651312199567759",
         "16.189746154376728",
         "9.791885635868047",
         "18.03466131695005",
         "19.721022626464112",
         "17.29418252684362",
         "14.490857807319856",
         "17.653328721077067",
         "18.784590140366028",
         "18.181085023876008",
         "17.178590067641114",
         "15.026568932185066",
         "16.663721903687765",
         "15.167399449385732",
         "14.965426485553154",
         "14.86228452470993",
         "9.042281207641352",
         "14.324788847506273",
         "13.192224146510023",
         "12.122976897565113",
         "16.14527944693461",
         "12.663517950076693",
         "19.41158265576437",
         "16.972180768163998",
         "20.677077097912825",
         "19.621601180421887",
         "13.650481029216035",
         "15.768582591947187",
         "12.159326410704017",
         "20.200806789158282",
         "21.232717907052557",
         "20.755683442737006",
         "17.5740278866242",
         "16.83952849205467",
         "16.564554017979486",
         "17.05977893866491",
         "17.88483340321158",
         "10.751563246633594"
        ],
        [
         "min",
         "41.0",
         "47.0",
         "49.0",
         "9000.0",
         "500.0",
         "16.0",
         "155.0",
         "49.0",
         "1.0",
         "1.0",
         "1.0",
         "2021.0",
         "1.0",
         "1318.0",
         "1.0",
         "1.0",
         "1.0",
         "1.0",
         "16000.0",
         "28.0",
         "18.0",
         "25.0",
         "27.0",
         "14.0",
         "29.0",
         "6.0",
         "2.0",
         "5.0",
         "7.0",
         "3.0",
         "4.0",
         "6.0",
         "4.0",
         "9.0",
         "8.0",
         "14.0",
         "15.0",
         "18.0",
         "25.0",
         "15.0",
         "20.0",
         "22.0",
         "12.0",
         "19.0",
         "4.0",
         "10.0",
         "3.0",
         "2.0",
         "10.0",
         "7.0",
         "12.0",
         "4.0",
         "5.0",
         "5.0",
         "2.0",
         "2.0",
         "2.0",
         "2.0",
         "2.0",
         "15.0"
        ],
        [
         "25%",
         "214413.5",
         "61.0",
         "67.0",
         "475000.0",
         "1000.0",
         "21.0",
         "176.0",
         "70.0",
         "479.0",
         "1.0",
         "9.0",
         "2022.0",
         "21.0",
         "1338.0",
         "7.0",
         "3.0",
         "2.0",
         "1.0",
         "806000.0",
         "62.0",
         "42.0",
         "51.0",
         "57.0",
         "37.0",
         "59.0",
         "38.0",
         "30.0",
         "44.0",
         "54.0",
         "30.0",
         "50.0",
         "35.0",
         "31.0",
         "44.0",
         "55.0",
         "57.0",
         "58.0",
         "55.0",
         "56.0",
         "56.0",
         "48.0",
         "57.0",
         "56.0",
         "57.0",
         "32.0",
         "44.0",
         "26.0",
         "40.0",
         "45.0",
         "38.0",
         "50.0",
         "29.0",
         "28.0",
         "25.0",
         "8.0",
         "8.0",
         "8.0",
         "8.0",
         "8.0",
         "27.0"
        ],
        [
         "50%",
         "236543.0",
         "66.0",
         "71.0",
         "975000.0",
         "3000.0",
         "25.0",
         "181.0",
         "75.0",
         "1938.0",
         "1.0",
         "18.0",
         "2022.0",
         "45.0",
         "1357.0",
         "12.0",
         "3.0",
         "2.0",
         "1.0",
         "1600000.0",
         "69.0",
         "54.0",
         "58.0",
         "64.0",
         "56.0",
         "66.0",
         "54.0",
         "50.0",
         "55.0",
         "62.0",
         "43.0",
         "61.0",
         "49.0",
         "41.0",
         "56.0",
         "63.0",
         "67.0",
         "68.0",
         "66.0",
         "62.0",
         "66.0",
         "59.0",
         "65.0",
         "66.0",
         "66.0",
         "51.0",
         "58.0",
         "53.0",
         "56.0",
         "55.0",
         "49.0",
         "59.0",
         "52.0",
         "56.0",
         "53.0",
         "11.0",
         "11.0",
         "11.0",
         "11.0",
         "11.0",
         "36.0"
        ],
        [
         "75%",
         "253532.5",
         "70.0",
         "75.0",
         "2000000.0",
         "8000.0",
         "29.0",
         "186.0",
         "80.0",
         "111139.0",
         "1.0",
         "27.0",
         "2024.0",
         "60.0",
         "1386.0",
         "19.0",
         "3.0",
         "3.0",
         "1.0",
         "3700000.0",
         "76.0",
         "63.0",
         "64.0",
         "69.0",
         "64.0",
         "72.0",
         "63.0",
         "62.0",
         "64.0",
         "68.0",
         "56.0",
         "68.0",
         "61.0",
         "55.0",
         "64.0",
         "69.0",
         "75.0",
         "75.0",
         "74.0",
         "67.0",
         "74.0",
         "68.0",
         "73.0",
         "74.0",
         "74.0",
         "62.0",
         "68.0",
         "64.0",
         "64.0",
         "64.0",
         "60.0",
         "66.0",
         "63.0",
         "65.0",
         "63.0",
         "14.0",
         "14.0",
         "14.0",
         "14.0",
         "14.0",
         "45.0"
        ],
        [
         "max",
         "264640.0",
         "93.0",
         "95.0",
         "194000000.0",
         "350000.0",
         "54.0",
         "206.0",
         "110.0",
         "115820.0",
         "5.0",
         "99.0",
         "2031.0",
         "219.0",
         "111473.0",
         "28.0",
         "5.0",
         "5.0",
         "5.0",
         "373500000.0",
         "97.0",
         "94.0",
         "93.0",
         "95.0",
         "91.0",
         "90.0",
         "94.0",
         "95.0",
         "93.0",
         "94.0",
         "90.0",
         "96.0",
         "94.0",
         "94.0",
         "93.0",
         "96.0",
         "97.0",
         "97.0",
         "96.0",
         "94.0",
         "96.0",
         "95.0",
         "95.0",
         "97.0",
         "97.0",
         "94.0",
         "95.0",
         "91.0",
         "96.0",
         "95.0",
         "93.0",
         "96.0",
         "93.0",
         "93.0",
         "92.0",
         "91.0",
         "92.0",
         "93.0",
         "92.0",
         "90.0",
         "65.0"
        ]
       ],
       "shape": {
        "columns": 60,
        "rows": 8
       }
      },
      "text/html": [
       "<div>\n",
       "<style scoped>\n",
       "    .dataframe tbody tr th:only-of-type {\n",
       "        vertical-align: middle;\n",
       "    }\n",
       "\n",
       "    .dataframe tbody tr th {\n",
       "        vertical-align: top;\n",
       "    }\n",
       "\n",
       "    .dataframe thead th {\n",
       "        text-align: right;\n",
       "    }\n",
       "</style>\n",
       "<table border=\"1\" class=\"dataframe\">\n",
       "  <thead>\n",
       "    <tr style=\"text-align: right;\">\n",
       "      <th></th>\n",
       "      <th>sofifa_id</th>\n",
       "      <th>overall</th>\n",
       "      <th>potential</th>\n",
       "      <th>value_eur</th>\n",
       "      <th>wage_eur</th>\n",
       "      <th>age</th>\n",
       "      <th>height_cm</th>\n",
       "      <th>weight_kg</th>\n",
       "      <th>club_team_id</th>\n",
       "      <th>league_level</th>\n",
       "      <th>...</th>\n",
       "      <th>mentality_composure</th>\n",
       "      <th>defending_marking_awareness</th>\n",
       "      <th>defending_standing_tackle</th>\n",
       "      <th>defending_sliding_tackle</th>\n",
       "      <th>goalkeeping_diving</th>\n",
       "      <th>goalkeeping_handling</th>\n",
       "      <th>goalkeeping_kicking</th>\n",
       "      <th>goalkeeping_positioning</th>\n",
       "      <th>goalkeeping_reflexes</th>\n",
       "      <th>goalkeeping_speed</th>\n",
       "    </tr>\n",
       "  </thead>\n",
       "  <tbody>\n",
       "    <tr>\n",
       "      <th>count</th>\n",
       "      <td>19239.000000</td>\n",
       "      <td>19239.000000</td>\n",
       "      <td>19239.000000</td>\n",
       "      <td>1.916500e+04</td>\n",
       "      <td>19178.000000</td>\n",
       "      <td>19239.000000</td>\n",
       "      <td>19239.000000</td>\n",
       "      <td>19239.000000</td>\n",
       "      <td>19178.000000</td>\n",
       "      <td>19178.000000</td>\n",
       "      <td>...</td>\n",
       "      <td>19239.000000</td>\n",
       "      <td>19239.000000</td>\n",
       "      <td>19239.000000</td>\n",
       "      <td>19239.000000</td>\n",
       "      <td>19239.000000</td>\n",
       "      <td>19239.000000</td>\n",
       "      <td>19239.000000</td>\n",
       "      <td>19239.000000</td>\n",
       "      <td>19239.000000</td>\n",
       "      <td>2132.000000</td>\n",
       "    </tr>\n",
       "    <tr>\n",
       "      <th>mean</th>\n",
       "      <td>231468.086959</td>\n",
       "      <td>65.772182</td>\n",
       "      <td>71.079370</td>\n",
       "      <td>2.850452e+06</td>\n",
       "      <td>9017.989363</td>\n",
       "      <td>25.210822</td>\n",
       "      <td>181.299704</td>\n",
       "      <td>74.943032</td>\n",
       "      <td>50580.498123</td>\n",
       "      <td>1.354364</td>\n",
       "      <td>...</td>\n",
       "      <td>57.929830</td>\n",
       "      <td>46.601746</td>\n",
       "      <td>48.045584</td>\n",
       "      <td>45.906700</td>\n",
       "      <td>16.406102</td>\n",
       "      <td>16.192474</td>\n",
       "      <td>16.055356</td>\n",
       "      <td>16.229274</td>\n",
       "      <td>16.491814</td>\n",
       "      <td>36.439962</td>\n",
       "    </tr>\n",
       "    <tr>\n",
       "      <th>std</th>\n",
       "      <td>27039.717497</td>\n",
       "      <td>6.880232</td>\n",
       "      <td>6.086213</td>\n",
       "      <td>7.613700e+06</td>\n",
       "      <td>19470.176724</td>\n",
       "      <td>4.748235</td>\n",
       "      <td>6.863179</td>\n",
       "      <td>7.069434</td>\n",
       "      <td>54401.868535</td>\n",
       "      <td>0.747865</td>\n",
       "      <td>...</td>\n",
       "      <td>12.159326</td>\n",
       "      <td>20.200807</td>\n",
       "      <td>21.232718</td>\n",
       "      <td>20.755683</td>\n",
       "      <td>17.574028</td>\n",
       "      <td>16.839528</td>\n",
       "      <td>16.564554</td>\n",
       "      <td>17.059779</td>\n",
       "      <td>17.884833</td>\n",
       "      <td>10.751563</td>\n",
       "    </tr>\n",
       "    <tr>\n",
       "      <th>min</th>\n",
       "      <td>41.000000</td>\n",
       "      <td>47.000000</td>\n",
       "      <td>49.000000</td>\n",
       "      <td>9.000000e+03</td>\n",
       "      <td>500.000000</td>\n",
       "      <td>16.000000</td>\n",
       "      <td>155.000000</td>\n",
       "      <td>49.000000</td>\n",
       "      <td>1.000000</td>\n",
       "      <td>1.000000</td>\n",
       "      <td>...</td>\n",
       "      <td>12.000000</td>\n",
       "      <td>4.000000</td>\n",
       "      <td>5.000000</td>\n",
       "      <td>5.000000</td>\n",
       "      <td>2.000000</td>\n",
       "      <td>2.000000</td>\n",
       "      <td>2.000000</td>\n",
       "      <td>2.000000</td>\n",
       "      <td>2.000000</td>\n",
       "      <td>15.000000</td>\n",
       "    </tr>\n",
       "    <tr>\n",
       "      <th>25%</th>\n",
       "      <td>214413.500000</td>\n",
       "      <td>61.000000</td>\n",
       "      <td>67.000000</td>\n",
       "      <td>4.750000e+05</td>\n",
       "      <td>1000.000000</td>\n",
       "      <td>21.000000</td>\n",
       "      <td>176.000000</td>\n",
       "      <td>70.000000</td>\n",
       "      <td>479.000000</td>\n",
       "      <td>1.000000</td>\n",
       "      <td>...</td>\n",
       "      <td>50.000000</td>\n",
       "      <td>29.000000</td>\n",
       "      <td>28.000000</td>\n",
       "      <td>25.000000</td>\n",
       "      <td>8.000000</td>\n",
       "      <td>8.000000</td>\n",
       "      <td>8.000000</td>\n",
       "      <td>8.000000</td>\n",
       "      <td>8.000000</td>\n",
       "      <td>27.000000</td>\n",
       "    </tr>\n",
       "    <tr>\n",
       "      <th>50%</th>\n",
       "      <td>236543.000000</td>\n",
       "      <td>66.000000</td>\n",
       "      <td>71.000000</td>\n",
       "      <td>9.750000e+05</td>\n",
       "      <td>3000.000000</td>\n",
       "      <td>25.000000</td>\n",
       "      <td>181.000000</td>\n",
       "      <td>75.000000</td>\n",
       "      <td>1938.000000</td>\n",
       "      <td>1.000000</td>\n",
       "      <td>...</td>\n",
       "      <td>59.000000</td>\n",
       "      <td>52.000000</td>\n",
       "      <td>56.000000</td>\n",
       "      <td>53.000000</td>\n",
       "      <td>11.000000</td>\n",
       "      <td>11.000000</td>\n",
       "      <td>11.000000</td>\n",
       "      <td>11.000000</td>\n",
       "      <td>11.000000</td>\n",
       "      <td>36.000000</td>\n",
       "    </tr>\n",
       "    <tr>\n",
       "      <th>75%</th>\n",
       "      <td>253532.500000</td>\n",
       "      <td>70.000000</td>\n",
       "      <td>75.000000</td>\n",
       "      <td>2.000000e+06</td>\n",
       "      <td>8000.000000</td>\n",
       "      <td>29.000000</td>\n",
       "      <td>186.000000</td>\n",
       "      <td>80.000000</td>\n",
       "      <td>111139.000000</td>\n",
       "      <td>1.000000</td>\n",
       "      <td>...</td>\n",
       "      <td>66.000000</td>\n",
       "      <td>63.000000</td>\n",
       "      <td>65.000000</td>\n",
       "      <td>63.000000</td>\n",
       "      <td>14.000000</td>\n",
       "      <td>14.000000</td>\n",
       "      <td>14.000000</td>\n",
       "      <td>14.000000</td>\n",
       "      <td>14.000000</td>\n",
       "      <td>45.000000</td>\n",
       "    </tr>\n",
       "    <tr>\n",
       "      <th>max</th>\n",
       "      <td>264640.000000</td>\n",
       "      <td>93.000000</td>\n",
       "      <td>95.000000</td>\n",
       "      <td>1.940000e+08</td>\n",
       "      <td>350000.000000</td>\n",
       "      <td>54.000000</td>\n",
       "      <td>206.000000</td>\n",
       "      <td>110.000000</td>\n",
       "      <td>115820.000000</td>\n",
       "      <td>5.000000</td>\n",
       "      <td>...</td>\n",
       "      <td>96.000000</td>\n",
       "      <td>93.000000</td>\n",
       "      <td>93.000000</td>\n",
       "      <td>92.000000</td>\n",
       "      <td>91.000000</td>\n",
       "      <td>92.000000</td>\n",
       "      <td>93.000000</td>\n",
       "      <td>92.000000</td>\n",
       "      <td>90.000000</td>\n",
       "      <td>65.000000</td>\n",
       "    </tr>\n",
       "  </tbody>\n",
       "</table>\n",
       "<p>8 rows × 60 columns</p>\n",
       "</div>"
      ],
      "text/plain": [
       "           sofifa_id       overall     potential     value_eur       wage_eur  \\\n",
       "count   19239.000000  19239.000000  19239.000000  1.916500e+04   19178.000000   \n",
       "mean   231468.086959     65.772182     71.079370  2.850452e+06    9017.989363   \n",
       "std     27039.717497      6.880232      6.086213  7.613700e+06   19470.176724   \n",
       "min        41.000000     47.000000     49.000000  9.000000e+03     500.000000   \n",
       "25%    214413.500000     61.000000     67.000000  4.750000e+05    1000.000000   \n",
       "50%    236543.000000     66.000000     71.000000  9.750000e+05    3000.000000   \n",
       "75%    253532.500000     70.000000     75.000000  2.000000e+06    8000.000000   \n",
       "max    264640.000000     93.000000     95.000000  1.940000e+08  350000.000000   \n",
       "\n",
       "                age     height_cm     weight_kg   club_team_id  league_level  \\\n",
       "count  19239.000000  19239.000000  19239.000000   19178.000000  19178.000000   \n",
       "mean      25.210822    181.299704     74.943032   50580.498123      1.354364   \n",
       "std        4.748235      6.863179      7.069434   54401.868535      0.747865   \n",
       "min       16.000000    155.000000     49.000000       1.000000      1.000000   \n",
       "25%       21.000000    176.000000     70.000000     479.000000      1.000000   \n",
       "50%       25.000000    181.000000     75.000000    1938.000000      1.000000   \n",
       "75%       29.000000    186.000000     80.000000  111139.000000      1.000000   \n",
       "max       54.000000    206.000000    110.000000  115820.000000      5.000000   \n",
       "\n",
       "       ...  mentality_composure  defending_marking_awareness  \\\n",
       "count  ...         19239.000000                 19239.000000   \n",
       "mean   ...            57.929830                    46.601746   \n",
       "std    ...            12.159326                    20.200807   \n",
       "min    ...            12.000000                     4.000000   \n",
       "25%    ...            50.000000                    29.000000   \n",
       "50%    ...            59.000000                    52.000000   \n",
       "75%    ...            66.000000                    63.000000   \n",
       "max    ...            96.000000                    93.000000   \n",
       "\n",
       "       defending_standing_tackle  defending_sliding_tackle  \\\n",
       "count               19239.000000              19239.000000   \n",
       "mean                   48.045584                 45.906700   \n",
       "std                    21.232718                 20.755683   \n",
       "min                     5.000000                  5.000000   \n",
       "25%                    28.000000                 25.000000   \n",
       "50%                    56.000000                 53.000000   \n",
       "75%                    65.000000                 63.000000   \n",
       "max                    93.000000                 92.000000   \n",
       "\n",
       "       goalkeeping_diving  goalkeeping_handling  goalkeeping_kicking  \\\n",
       "count        19239.000000          19239.000000         19239.000000   \n",
       "mean            16.406102             16.192474            16.055356   \n",
       "std             17.574028             16.839528            16.564554   \n",
       "min              2.000000              2.000000             2.000000   \n",
       "25%              8.000000              8.000000             8.000000   \n",
       "50%             11.000000             11.000000            11.000000   \n",
       "75%             14.000000             14.000000            14.000000   \n",
       "max             91.000000             92.000000            93.000000   \n",
       "\n",
       "       goalkeeping_positioning  goalkeeping_reflexes  goalkeeping_speed  \n",
       "count             19239.000000          19239.000000        2132.000000  \n",
       "mean                 16.229274             16.491814          36.439962  \n",
       "std                  17.059779             17.884833          10.751563  \n",
       "min                   2.000000              2.000000          15.000000  \n",
       "25%                   8.000000              8.000000          27.000000  \n",
       "50%                  11.000000             11.000000          36.000000  \n",
       "75%                  14.000000             14.000000          45.000000  \n",
       "max                  92.000000             90.000000          65.000000  \n",
       "\n",
       "[8 rows x 60 columns]"
      ]
     },
     "execution_count": 47,
     "metadata": {},
     "output_type": "execute_result"
    }
   ],
   "source": [
    "df.describe()"
   ]
  },
  {
   "cell_type": "code",
   "execution_count": 48,
   "id": "1adf32ff",
   "metadata": {},
   "outputs": [
    {
     "data": {
      "text/plain": [
       "sofifa_id               0\n",
       "player_url              0\n",
       "short_name              0\n",
       "long_name               0\n",
       "player_positions        0\n",
       "                    ...  \n",
       "player_face_url         0\n",
       "club_logo_url          61\n",
       "club_flag_url          61\n",
       "nation_logo_url     18480\n",
       "nation_flag_url         0\n",
       "Length: 110, dtype: int64"
      ]
     },
     "execution_count": 48,
     "metadata": {},
     "output_type": "execute_result"
    }
   ],
   "source": [
    "# 2.4 Identificación de valores nulos\n",
    "df.isnull().sum()"
   ]
  },
  {
   "cell_type": "markdown",
   "id": "59110aa3",
   "metadata": {},
   "source": [
    "# 3. Análisis exploratorio (EDA)\n",
    "\n",
    "## 3.1 Distribución de características físicas y económicas"
   ]
  },
  {
   "cell_type": "code",
   "execution_count": 49,
   "id": "449dec04",
   "metadata": {},
   "outputs": [
    {
     "data": {
      "image/png": "[encoded data removed]",
      "text/plain": [
       "<Figure size 1000x600 with 1 Axes>"
      ]
     },
     "metadata": {},
     "output_type": "display_data"
    }
   ],
   "source": [
    "# Calculate key statistics\n",
    "mean_height = df[\"height_cm\"].mean()\n",
    "median_height = df[\"height_cm\"].median()\n",
    "max_height = df[\"height_cm\"].max()\n",
    "min_height = df[\"height_cm\"].min()\n",
    "\n",
    "# Create the plot\n",
    "plt.figure(figsize=(10, 6))\n",
    "sns.histplot(df[\"height_cm\"], kde=True, bins=30, alpha=0.5, edgecolor=\"black\", color=\"darkblue\")\n",
    "\n",
    "# Add vertical lines for mean and median\n",
    "plt.axvline(mean_height, color=\"red\", linestyle=\"--\", label=f\"Media: {mean_height:.1f} cm\")\n",
    "plt.axvline(median_height, color=\"green\", linestyle=\"--\", label=f\"Mediana: {median_height:.1f} cm\")\n",
    "\n",
    "# Annotate max and min values\n",
    "plt.annotate(f\"Máximo: {max_height} cm\", xy=(max_height, 0), xytext=(max_height + 5, 10),\n",
    "             arrowprops=dict(facecolor=\"black\", arrowstyle=\"->\"))\n",
    "plt.annotate(f\"Mínimo: {min_height} cm\", xy=(min_height, 0), xytext=(min_height - 10, 10),\n",
    "             arrowprops=dict(facecolor=\"black\", arrowstyle=\"->\"))\n",
    "\n",
    "# Add labels, title, grid, and legend\n",
    "plt.title(\"Distribución de Estatura\", fontsize=16)\n",
    "plt.xlabel(\"Estatura (cm)\", fontsize=12)\n",
    "plt.ylabel(\"Frecuencia\", fontsize=12)\n",
    "plt.grid(axis=\"y\", linestyle=\"--\", alpha=0.7)\n",
    "plt.legend()\n",
    "plt.show()"
   ]
  },
  {
   "cell_type": "code",
   "execution_count": 50,
   "id": "e9fcef2e",
   "metadata": {},
   "outputs": [
    {
     "data": {
      "image/png": "[encoded data removed]",
      "text/plain": [
       "<Figure size 1000x600 with 1 Axes>"
      ]
     },
     "metadata": {},
     "output_type": "display_data"
    }
   ],
   "source": [
    "# Calculate key statistics\n",
    "mean_weight = df[\"weight_kg\"].mean()\n",
    "median_weight = df[\"weight_kg\"].median()\n",
    "max_weight = df[\"weight_kg\"].max()\n",
    "min_weight = df[\"weight_kg\"].min()\n",
    "\n",
    "# Create the plot\n",
    "plt.figure(figsize=(10, 6))\n",
    "sns.histplot(df[\"weight_kg\"], kde=True, bins=30, alpha=0.5, edgecolor=\"black\", color=\"darkgreen\")\n",
    "\n",
    "# Add vertical lines for mean and median\n",
    "plt.axvline(mean_weight, color=\"red\", linestyle=\"--\", label=f\"Media: {mean_weight:.1f} kg\")\n",
    "plt.axvline(median_weight, color=\"blue\", linestyle=\"--\", label=f\"Mediana: {median_weight:.1f} kg\")\n",
    "\n",
    "# Annotate max and min values\n",
    "plt.annotate(f\"Máximo: {max_weight} kg\", xy=(max_weight, 0), xytext=(max_weight + 5, 10),\n",
    "             arrowprops=dict(facecolor=\"black\", arrowstyle=\"->\"))\n",
    "plt.annotate(f\"Mínimo: {min_weight} kg\", xy=(min_weight, 0), xytext=(min_weight - 10, 10),\n",
    "             arrowprops=dict(facecolor=\"black\", arrowstyle=\"->\"))\n",
    "\n",
    "# Add labels, title, grid, and legend\n",
    "plt.title(\"Distribución de Peso\", fontsize=16)\n",
    "plt.xlabel(\"Peso (kg)\", fontsize=12)\n",
    "plt.ylabel(\"Frecuencia\", fontsize=12)\n",
    "plt.grid(axis=\"y\", linestyle=\"--\", alpha=0.7)\n",
    "plt.legend()\n",
    "plt.show()"
   ]
  },
  {
   "cell_type": "code",
   "execution_count": 51,
   "id": "76ebdb55",
   "metadata": {},
   "outputs": [
    {
     "data": {
      "image/png": "[encoded data removed]",
      "text/plain": [
       "<Figure size 1000x600 with 1 Axes>"
      ]
     },
     "metadata": {},
     "output_type": "display_data"
    }
   ],
   "source": [
    "# Improved visualization for salary distribution\n",
    "import matplotlib.pyplot as plt\n",
    "import seaborn as sns\n",
    "\n",
    "# Calculate key statistics\n",
    "mean_salary = df[\"wage_eur\"].mean()\n",
    "median_salary = df[\"wage_eur\"].median()\n",
    "max_salary = df[\"wage_eur\"].max()\n",
    "min_salary = df[\"wage_eur\"].min()\n",
    "\n",
    "# Create the plot\n",
    "plt.figure(figsize=(10, 6))\n",
    "sns.histplot(df[\"wage_eur\"], kde=True, bins=30, alpha=0.5, edgecolor=\"black\", color=\"purple\", log_scale=(False, True))\n",
    "\n",
    "# Add vertical lines for mean and median\n",
    "plt.axvline(mean_salary, color=\"red\", linestyle=\"--\", label=f\"Media: €{mean_salary:,.0f}\")\n",
    "plt.axvline(median_salary, color=\"blue\", linestyle=\"--\", label=f\"Mediana: €{median_salary:,.0f}\")\n",
    "\n",
    "# Annotate max and min values\n",
    "plt.annotate(f\"Máximo: €{max_salary:,.0f}\", xy=(max_salary, 0.5), xytext=(max_salary * 1.5, 1),\n",
    "             arrowprops=dict(facecolor=\"black\", arrowstyle=\"->\"), fontsize=10)\n",
    "plt.annotate(f\"Mínimo: €{min_salary:,.0f}\", xy=(min_salary, 0.5), xytext=(min_salary * 1.5, 1),\n",
    "             arrowprops=dict(facecolor=\"black\", arrowstyle=\"->\"), fontsize=10)\n",
    "\n",
    "# Add labels, title, grid, and legend\n",
    "plt.title(\"Distribución de Salario (Escala Logarítmica)\", fontsize=16)\n",
    "plt.xlabel(\"Salario (€)\", fontsize=12)\n",
    "plt.ylabel(\"Frecuencia (log)\", fontsize=12)\n",
    "plt.grid(axis=\"y\", linestyle=\"--\", alpha=0.7)\n",
    "plt.legend()\n",
    "plt.show()"
   ]
  },
  {
   "cell_type": "code",
   "execution_count": 12,
   "id": "a03aac83",
   "metadata": {},
   "outputs": [
    {
     "data": {
      "image/png": "[encoded data removed]",
      "text/plain": [
       "<Figure size 640x480 with 1 Axes>"
      ]
     },
     "metadata": {},
     "output_type": "display_data"
    }
   ],
   "source": [
    "# Edad de los jugadores\n",
    "sns.histplot(df[\"age\"], kde=True)\n",
    "plt.title(\"Distribución de Edad\")\n",
    "plt.show()"
   ]
  },
  {
   "cell_type": "markdown",
   "id": "e44b8fa1",
   "metadata": {},
   "source": [
    "## 3.2 Dominancia del pie"
   ]
  },
  {
   "cell_type": "code",
   "execution_count": 13,
   "id": "d885ff17",
   "metadata": {},
   "outputs": [
    {
     "data": {
      "image/png": "[encoded data removed]",
      "text/plain": [
       "<Figure size 640x480 with 1 Axes>"
      ]
     },
     "metadata": {},
     "output_type": "display_data"
    }
   ],
   "source": [
    "sns.countplot(x=\"preferred_foot\", data=df)\n",
    "plt.title(\"Pie Dominante de los Jugadores\")\n",
    "plt.show()"
   ]
  },
  {
   "cell_type": "markdown",
   "id": "5937e526",
   "metadata": {},
   "source": [
    "## 3.3 Representación geográfica"
   ]
  },
  {
   "cell_type": "code",
   "execution_count": 14,
   "id": "13ad99ad",
   "metadata": {},
   "outputs": [
    {
     "data": {
      "image/png": "[encoded data removed]",
      "text/plain": [
       "<Figure size 640x480 with 1 Axes>"
      ]
     },
     "metadata": {},
     "output_type": "display_data"
    }
   ],
   "source": [
    "top_countries = df[\"nationality_name\"].value_counts().head(10)\n",
    "top_countries.plot(kind=\"bar\")\n",
    "plt.title(\"Países con Mayor Representación\")\n",
    "plt.show()"
   ]
  },
  {
   "cell_type": "markdown",
   "id": "e9dcc74a",
   "metadata": {},
   "source": [
    "## 3.4 Posiciones de los jugadores"
   ]
  },
  {
   "cell_type": "code",
   "execution_count": 15,
   "id": "adf91c9c",
   "metadata": {},
   "outputs": [
    {
     "data": {
      "image/png": "[encoded data removed]",
      "text/plain": [
       "<Figure size 640x480 with 1 Axes>"
      ]
     },
     "metadata": {},
     "output_type": "display_data"
    }
   ],
   "source": [
    "sns.countplot(\n",
    "    y=\"club_position\", data=df, order=df[\"club_position\"].value_counts().index\n",
    ")\n",
    "\n",
    "plt.title(\"Posiciones más Comunes\")\n",
    "\n",
    "plt.show()"
   ]
  },
  {
   "cell_type": "markdown",
   "id": "7f330ae6",
   "metadata": {},
   "source": [
    "# 4. Relaciones entre variables clave\n",
    "\n",
    "## 4.1 Potencial vs Salario"
   ]
  },
  {
   "cell_type": "code",
   "execution_count": 16,
   "id": "bc081a2b",
   "metadata": {},
   "outputs": [
    {
     "data": {
      "image/png": "[encoded data removed]",
      "text/plain": [
       "<Figure size 640x480 with 1 Axes>"
      ]
     },
     "metadata": {},
     "output_type": "display_data"
    }
   ],
   "source": [
    "sns.scatterplot(x=\"potential\", y=\"wage_eur\", data=df)\n",
    "plt.title(\"Relación entre Potencial y Salario\")\n",
    "plt.show()"
   ]
  },
  {
   "cell_type": "markdown",
   "id": "a68f14df",
   "metadata": {},
   "source": [
    "## 4.2 Reputación vs Valor de mercado"
   ]
  },
  {
   "cell_type": "code",
   "execution_count": 17,
   "id": "82103922",
   "metadata": {},
   "outputs": [
    {
     "data": {
      "image/png": "[encoded data removed]",
      "text/plain": [
       "<Figure size 640x480 with 1 Axes>"
      ]
     },
     "metadata": {},
     "output_type": "display_data"
    }
   ],
   "source": [
    "sns.scatterplot(x=\"international_reputation\", y=\"value_eur\", data=df)\n",
    "plt.title(\"Relación entre Reputación y Valor de Mercado\")\n",
    "plt.show()"
   ]
  },
  {
   "cell_type": "markdown",
   "id": "7bc370a7",
   "metadata": {},
   "source": [
    "## 4.3 Reputación vs Salario"
   ]
  },
  {
   "cell_type": "code",
   "execution_count": 18,
   "id": "1f0e883a",
   "metadata": {},
   "outputs": [
    {
     "data": {
      "image/png": "[encoded data removed]",
      "text/plain": [
       "<Figure size 640x480 with 1 Axes>"
      ]
     },
     "metadata": {},
     "output_type": "display_data"
    }
   ],
   "source": [
    "sns.boxplot(x=\"international_reputation\", y=\"wage_eur\", data=df, whis=[1,99])\n",
    "plt.title(\"Relación entre Reputación y Salario\")\n",
    "plt.show()"
   ]
  },
  {
   "cell_type": "markdown",
   "id": "7c728bc4",
   "metadata": {},
   "source": [
    "## 4.4 Estatura vs Potencial"
   ]
  },
  {
   "cell_type": "code",
   "execution_count": 19,
   "id": "40c5392d",
   "metadata": {},
   "outputs": [
    {
     "data": {
      "image/png": "[encoded data removed]",
      "text/plain": [
       "<Figure size 640x480 with 1 Axes>"
      ]
     },
     "metadata": {},
     "output_type": "display_data"
    }
   ],
   "source": [
    "sns.scatterplot(x=\"height_cm\", y=\"potential\", data=df)\n",
    "plt.title(\"Relación entre Estatura y Potencial\")\n",
    "plt.show()"
   ]
  },
  {
   "cell_type": "markdown",
   "id": "ea8e2827",
   "metadata": {},
   "source": [
    "# 5. Jugadores destacados\n",
    "\n",
    "## 5.1 Jugadores mejor remunerados"
   ]
  },
  {
   "cell_type": "code",
   "execution_count": 20,
   "id": "47e226ec",
   "metadata": {},
   "outputs": [
    {
     "data": {
      "application/vnd.microsoft.datawrangler.viewer.v0+json": {
       "columns": [
        {
         "name": "index",
         "rawType": "int64",
         "type": "integer"
        },
        {
         "name": "short_name",
         "rawType": "object",
         "type": "string"
        },
        {
         "name": "wage_eur",
         "rawType": "float64",
         "type": "float"
        }
       ],
       "conversionMethod": "pd.DataFrame",
       "ref": "72eac117-0cfb-447c-b793-ab0c8c16b0a6",
       "rows": [
        [
         "4",
         "K. De Bruyne",
         "350000.0"
        ],
        [
         "11",
         "K. Benzema",
         "350000.0"
        ],
        [
         "0",
         "L. Messi",
         "320000.0"
        ],
        [
         "24",
         "T. Kroos",
         "310000.0"
        ],
        [
         "14",
         "Casemiro",
         "310000.0"
        ],
        [
         "27",
         "R. Sterling",
         "290000.0"
        ],
        [
         "17",
         "M. Salah",
         "270000.0"
        ],
        [
         "16",
         "S. Mané",
         "270000.0"
        ],
        [
         "1",
         "R. Lewandowski",
         "270000.0"
        ],
        [
         "2",
         "Cristiano Ronaldo",
         "270000.0"
        ]
       ],
       "shape": {
        "columns": 2,
        "rows": 10
       }
      },
      "text/html": [
       "<div>\n",
       "<style scoped>\n",
       "    .dataframe tbody tr th:only-of-type {\n",
       "        vertical-align: middle;\n",
       "    }\n",
       "\n",
       "    .dataframe tbody tr th {\n",
       "        vertical-align: top;\n",
       "    }\n",
       "\n",
       "    .dataframe thead th {\n",
       "        text-align: right;\n",
       "    }\n",
       "</style>\n",
       "<table border=\"1\" class=\"dataframe\">\n",
       "  <thead>\n",
       "    <tr style=\"text-align: right;\">\n",
       "      <th></th>\n",
       "      <th>short_name</th>\n",
       "      <th>wage_eur</th>\n",
       "    </tr>\n",
       "  </thead>\n",
       "  <tbody>\n",
       "    <tr>\n",
       "      <th>4</th>\n",
       "      <td>K. De Bruyne</td>\n",
       "      <td>350000.0</td>\n",
       "    </tr>\n",
       "    <tr>\n",
       "      <th>11</th>\n",
       "      <td>K. Benzema</td>\n",
       "      <td>350000.0</td>\n",
       "    </tr>\n",
       "    <tr>\n",
       "      <th>0</th>\n",
       "      <td>L. Messi</td>\n",
       "      <td>320000.0</td>\n",
       "    </tr>\n",
       "    <tr>\n",
       "      <th>24</th>\n",
       "      <td>T. Kroos</td>\n",
       "      <td>310000.0</td>\n",
       "    </tr>\n",
       "    <tr>\n",
       "      <th>14</th>\n",
       "      <td>Casemiro</td>\n",
       "      <td>310000.0</td>\n",
       "    </tr>\n",
       "    <tr>\n",
       "      <th>27</th>\n",
       "      <td>R. Sterling</td>\n",
       "      <td>290000.0</td>\n",
       "    </tr>\n",
       "    <tr>\n",
       "      <th>17</th>\n",
       "      <td>M. Salah</td>\n",
       "      <td>270000.0</td>\n",
       "    </tr>\n",
       "    <tr>\n",
       "      <th>16</th>\n",
       "      <td>S. Mané</td>\n",
       "      <td>270000.0</td>\n",
       "    </tr>\n",
       "    <tr>\n",
       "      <th>1</th>\n",
       "      <td>R. Lewandowski</td>\n",
       "      <td>270000.0</td>\n",
       "    </tr>\n",
       "    <tr>\n",
       "      <th>2</th>\n",
       "      <td>Cristiano Ronaldo</td>\n",
       "      <td>270000.0</td>\n",
       "    </tr>\n",
       "  </tbody>\n",
       "</table>\n",
       "</div>"
      ],
      "text/plain": [
       "           short_name  wage_eur\n",
       "4        K. De Bruyne  350000.0\n",
       "11         K. Benzema  350000.0\n",
       "0            L. Messi  320000.0\n",
       "24           T. Kroos  310000.0\n",
       "14           Casemiro  310000.0\n",
       "27        R. Sterling  290000.0\n",
       "17           M. Salah  270000.0\n",
       "16            S. Mané  270000.0\n",
       "1      R. Lewandowski  270000.0\n",
       "2   Cristiano Ronaldo  270000.0"
      ]
     },
     "execution_count": 20,
     "metadata": {},
     "output_type": "execute_result"
    }
   ],
   "source": [
    "df[[\"short_name\", \"wage_eur\"]].sort_values(by=\"wage_eur\", ascending=False).head(10)"
   ]
  },
  {
   "cell_type": "markdown",
   "id": "79914205",
   "metadata": {},
   "source": [
    "## 5.2 Jugadores con mayor potencial"
   ]
  },
  {
   "cell_type": "code",
   "execution_count": 21,
   "id": "7bf3f0ea",
   "metadata": {},
   "outputs": [
    {
     "data": {
      "application/vnd.microsoft.datawrangler.viewer.v0+json": {
       "columns": [
        {
         "name": "index",
         "rawType": "int64",
         "type": "integer"
        },
        {
         "name": "short_name",
         "rawType": "object",
         "type": "string"
        },
        {
         "name": "potential",
         "rawType": "int64",
         "type": "integer"
        }
       ],
       "conversionMethod": "pd.DataFrame",
       "ref": "c41c2682-53f3-4f32-85d0-3b51a98c5c65",
       "rows": [
        [
         "6",
         "K. Mbappé",
         "95"
        ],
        [
         "29",
         "E. Haaland",
         "93"
        ],
        [
         "21",
         "G. Donnarumma",
         "93"
        ],
        [
         "0",
         "L. Messi",
         "93"
        ],
        [
         "5",
         "J. Oblak",
         "93"
        ],
        [
         "1",
         "R. Lewandowski",
         "92"
        ],
        [
         "139",
         "P. Foden",
         "92"
        ],
        [
         "8",
         "M. ter Stegen",
         "92"
        ],
        [
         "44",
         "T. Alexander-Arnold",
         "92"
        ],
        [
         "43",
         "F. de Jong",
         "92"
        ]
       ],
       "shape": {
        "columns": 2,
        "rows": 10
       }
      },
      "text/html": [
       "<div>\n",
       "<style scoped>\n",
       "    .dataframe tbody tr th:only-of-type {\n",
       "        vertical-align: middle;\n",
       "    }\n",
       "\n",
       "    .dataframe tbody tr th {\n",
       "        vertical-align: top;\n",
       "    }\n",
       "\n",
       "    .dataframe thead th {\n",
       "        text-align: right;\n",
       "    }\n",
       "</style>\n",
       "<table border=\"1\" class=\"dataframe\">\n",
       "  <thead>\n",
       "    <tr style=\"text-align: right;\">\n",
       "      <th></th>\n",
       "      <th>short_name</th>\n",
       "      <th>potential</th>\n",
       "    </tr>\n",
       "  </thead>\n",
       "  <tbody>\n",
       "    <tr>\n",
       "      <th>6</th>\n",
       "      <td>K. Mbappé</td>\n",
       "      <td>95</td>\n",
       "    </tr>\n",
       "    <tr>\n",
       "      <th>29</th>\n",
       "      <td>E. Haaland</td>\n",
       "      <td>93</td>\n",
       "    </tr>\n",
       "    <tr>\n",
       "      <th>21</th>\n",
       "      <td>G. Donnarumma</td>\n",
       "      <td>93</td>\n",
       "    </tr>\n",
       "    <tr>\n",
       "      <th>0</th>\n",
       "      <td>L. Messi</td>\n",
       "      <td>93</td>\n",
       "    </tr>\n",
       "    <tr>\n",
       "      <th>5</th>\n",
       "      <td>J. Oblak</td>\n",
       "      <td>93</td>\n",
       "    </tr>\n",
       "    <tr>\n",
       "      <th>1</th>\n",
       "      <td>R. Lewandowski</td>\n",
       "      <td>92</td>\n",
       "    </tr>\n",
       "    <tr>\n",
       "      <th>139</th>\n",
       "      <td>P. Foden</td>\n",
       "      <td>92</td>\n",
       "    </tr>\n",
       "    <tr>\n",
       "      <th>8</th>\n",
       "      <td>M. ter Stegen</td>\n",
       "      <td>92</td>\n",
       "    </tr>\n",
       "    <tr>\n",
       "      <th>44</th>\n",
       "      <td>T. Alexander-Arnold</td>\n",
       "      <td>92</td>\n",
       "    </tr>\n",
       "    <tr>\n",
       "      <th>43</th>\n",
       "      <td>F. de Jong</td>\n",
       "      <td>92</td>\n",
       "    </tr>\n",
       "  </tbody>\n",
       "</table>\n",
       "</div>"
      ],
      "text/plain": [
       "              short_name  potential\n",
       "6              K. Mbappé         95\n",
       "29            E. Haaland         93\n",
       "21         G. Donnarumma         93\n",
       "0               L. Messi         93\n",
       "5               J. Oblak         93\n",
       "1         R. Lewandowski         92\n",
       "139             P. Foden         92\n",
       "8          M. ter Stegen         92\n",
       "44   T. Alexander-Arnold         92\n",
       "43            F. de Jong         92"
      ]
     },
     "execution_count": 21,
     "metadata": {},
     "output_type": "execute_result"
    }
   ],
   "source": [
    "df[[\"short_name\", \"potential\"]].sort_values(by=\"potential\", ascending=False).head(10)"
   ]
  },
  {
   "cell_type": "markdown",
   "id": "a1367ecd",
   "metadata": {},
   "source": [
    "## 5.3 Jugadores con mejor valoración general"
   ]
  },
  {
   "cell_type": "code",
   "execution_count": 22,
   "id": "25256f99",
   "metadata": {},
   "outputs": [
    {
     "data": {
      "application/vnd.microsoft.datawrangler.viewer.v0+json": {
       "columns": [
        {
         "name": "index",
         "rawType": "int64",
         "type": "integer"
        },
        {
         "name": "short_name",
         "rawType": "object",
         "type": "string"
        },
        {
         "name": "overall",
         "rawType": "int64",
         "type": "integer"
        }
       ],
       "conversionMethod": "pd.DataFrame",
       "ref": "40fc1371-c760-4154-944e-033e5557ec64",
       "rows": [
        [
         "0",
         "L. Messi",
         "93"
        ],
        [
         "1",
         "R. Lewandowski",
         "92"
        ],
        [
         "2",
         "Cristiano Ronaldo",
         "91"
        ],
        [
         "3",
         "Neymar Jr",
         "91"
        ],
        [
         "4",
         "K. De Bruyne",
         "91"
        ],
        [
         "5",
         "J. Oblak",
         "91"
        ],
        [
         "6",
         "K. Mbappé",
         "91"
        ],
        [
         "10",
         "N. Kanté",
         "90"
        ],
        [
         "8",
         "M. ter Stegen",
         "90"
        ],
        [
         "7",
         "M. Neuer",
         "90"
        ]
       ],
       "shape": {
        "columns": 2,
        "rows": 10
       }
      },
      "text/html": [
       "<div>\n",
       "<style scoped>\n",
       "    .dataframe tbody tr th:only-of-type {\n",
       "        vertical-align: middle;\n",
       "    }\n",
       "\n",
       "    .dataframe tbody tr th {\n",
       "        vertical-align: top;\n",
       "    }\n",
       "\n",
       "    .dataframe thead th {\n",
       "        text-align: right;\n",
       "    }\n",
       "</style>\n",
       "<table border=\"1\" class=\"dataframe\">\n",
       "  <thead>\n",
       "    <tr style=\"text-align: right;\">\n",
       "      <th></th>\n",
       "      <th>short_name</th>\n",
       "      <th>overall</th>\n",
       "    </tr>\n",
       "  </thead>\n",
       "  <tbody>\n",
       "    <tr>\n",
       "      <th>0</th>\n",
       "      <td>L. Messi</td>\n",
       "      <td>93</td>\n",
       "    </tr>\n",
       "    <tr>\n",
       "      <th>1</th>\n",
       "      <td>R. Lewandowski</td>\n",
       "      <td>92</td>\n",
       "    </tr>\n",
       "    <tr>\n",
       "      <th>2</th>\n",
       "      <td>Cristiano Ronaldo</td>\n",
       "      <td>91</td>\n",
       "    </tr>\n",
       "    <tr>\n",
       "      <th>3</th>\n",
       "      <td>Neymar Jr</td>\n",
       "      <td>91</td>\n",
       "    </tr>\n",
       "    <tr>\n",
       "      <th>4</th>\n",
       "      <td>K. De Bruyne</td>\n",
       "      <td>91</td>\n",
       "    </tr>\n",
       "    <tr>\n",
       "      <th>5</th>\n",
       "      <td>J. Oblak</td>\n",
       "      <td>91</td>\n",
       "    </tr>\n",
       "    <tr>\n",
       "      <th>6</th>\n",
       "      <td>K. Mbappé</td>\n",
       "      <td>91</td>\n",
       "    </tr>\n",
       "    <tr>\n",
       "      <th>10</th>\n",
       "      <td>N. Kanté</td>\n",
       "      <td>90</td>\n",
       "    </tr>\n",
       "    <tr>\n",
       "      <th>8</th>\n",
       "      <td>M. ter Stegen</td>\n",
       "      <td>90</td>\n",
       "    </tr>\n",
       "    <tr>\n",
       "      <th>7</th>\n",
       "      <td>M. Neuer</td>\n",
       "      <td>90</td>\n",
       "    </tr>\n",
       "  </tbody>\n",
       "</table>\n",
       "</div>"
      ],
      "text/plain": [
       "           short_name  overall\n",
       "0            L. Messi       93\n",
       "1      R. Lewandowski       92\n",
       "2   Cristiano Ronaldo       91\n",
       "3           Neymar Jr       91\n",
       "4        K. De Bruyne       91\n",
       "5            J. Oblak       91\n",
       "6           K. Mbappé       91\n",
       "10           N. Kanté       90\n",
       "8       M. ter Stegen       90\n",
       "7            M. Neuer       90"
      ]
     },
     "execution_count": 22,
     "metadata": {},
     "output_type": "execute_result"
    }
   ],
   "source": [
    "df[[\"short_name\", \"overall\"]].sort_values(by=\"overall\", ascending=False).head(10)"
   ]
  },
  {
   "cell_type": "markdown",
   "id": "471c23b3",
   "metadata": {},
   "source": [
    "# 6. Conclusiones\n",
    "\n",
    "- Se identificaron patrones interesantes en las relaciones entre potencial, salario y reputación.\n",
    "- La mayoría de los jugadores tienden a ser diestros.\n",
    "- Determinados países dominan la representación de jugadores.\n",
    "- Hay correlaciones positivas moderadas entre reputación y valor de mercado.\n",
    "- Se pueden proponer futuros estudios como predicción del valor de mercado a partir de atributos físicos y técnicos."
   ]
  }
 ],
 "metadata": {
  "jupytext": {
   "cell_metadata_filter": "-all",
   "main_language": "python",
   "notebook_metadata_filter": "-all"
  },
  "kernelspec": {
   "display_name": ".venv",
   "language": "python",
   "name": "python3"
  },
  "language_info": {
   "codemirror_mode": {
    "name": "ipython",
    "version": 3
   },
   "file_extension": ".py",
   "mimetype": "text/x-python",
   "name": "python",
   "nbconvert_exporter": "python",
   "pygments_lexer": "ipython3",
   "version": "3.12.3"
  }
 },
 "nbformat": 4,
 "nbformat_minor": 5
}
